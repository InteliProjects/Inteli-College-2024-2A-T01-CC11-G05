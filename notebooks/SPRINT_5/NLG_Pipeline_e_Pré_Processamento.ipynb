{
  "cells": [
    {
      "cell_type": "markdown",
      "metadata": {
        "id": "kMj5FJC8DQSP"
      },
      "source": [
        "# 1. Setup\n",
        "\n",
        "Seção para realizar a prepração do ambiente de desenvolvimento, realizando a conexão com o Google Drive e importando as bibliotecas necessárias e importação das bases fornecidas.\n"
      ]
    },
    {
      "cell_type": "code",
      "execution_count": 472,
      "metadata": {
        "colab": {
          "base_uri": "https://localhost:8080/"
        },
        "id": "9PDc9-AuDLaN",
        "outputId": "5627587b-9bfa-4ce9-8b09-957c043f0e7a"
      },
      "outputs": [
        {
          "output_type": "stream",
          "name": "stdout",
          "text": [
            "Drive already mounted at /content/drive; to attempt to forcibly remount, call drive.mount(\"/content/drive\", force_remount=True).\n"
          ]
        }
      ],
      "source": [
        "# Montagem do drive\n",
        "from google.colab import drive\n",
        "drive.mount('/content/drive')"
      ]
    },
    {
      "cell_type": "code",
      "execution_count": 473,
      "metadata": {
        "id": "Zrtn0dKsDvP9"
      },
      "outputs": [],
      "source": [
        "# Importar bibliotecas necessárias\n",
        "import pandas as pd\n",
        "import re"
      ]
    },
    {
      "cell_type": "markdown",
      "metadata": {
        "id": "XYl7wW1HOdYC"
      },
      "source": [
        "## Carregamento dos dados\n",
        "\n",
        "Para realizar o pré processamento foi utilizada 3 bases de dados que possuem semelhanças:\n",
        "\n",
        "**Base 1**: Base original apenas com conversas e intenções (descartada, muito antiga e entra em conflito com as outras)\n",
        "\n",
        "**Base 2**: Base secundária com conversas e mais de uma interação\n",
        "\n",
        "**Base 3**: Base terciária com um dicionário para as palavras em japonês"
      ]
    },
    {
      "cell_type": "code",
      "source": [
        "# Caminho das bases\n",
        "base2_path = '/content/drive/Shareddrives/Grupo_05/base2_v1_20240904.xlsx'\n",
        "base3_path = '/content/drive/Shareddrives/Grupo_05/base3_v1_20240904.xlsx'"
      ],
      "metadata": {
        "id": "8LLgVoFlWsMK"
      },
      "execution_count": 474,
      "outputs": []
    },
    {
      "cell_type": "markdown",
      "metadata": {
        "id": "bddl0_W2QQuq"
      },
      "source": [
        "### Tratamento Q&A\n",
        "\n",
        "Retirar linhas duplicadas, filtrar colunas principais e exploração da base."
      ]
    },
    {
      "cell_type": "code",
      "source": [
        "# Importação das bases 2 e 3 Q&A\n",
        "\n",
        "base2_QA = pd.read_excel(base2_path, sheet_name='Q&A')\n",
        "base3_QA = pd.read_excel(base3_path, sheet_name='Q&A')"
      ],
      "metadata": {
        "id": "cwinqQX8XTNG"
      },
      "execution_count": 475,
      "outputs": []
    },
    {
      "cell_type": "code",
      "source": [
        "# Print all values that present in column \"Intencao\" that are present in base2_QA but not base3_QA, and vice-versa\n",
        "print(set(base2_QA['Intencao']) - set(base3_QA['Intencao']))\n",
        "print(set(base3_QA['Intencao']) - set(base2_QA['Intencao']))"
      ],
      "metadata": {
        "colab": {
          "base_uri": "https://localhost:8080/"
        },
        "id": "MLFaLwDGm5-o",
        "outputId": "2990a3ae-9a89-40b8-e920-be6082253301"
      },
      "execution_count": 476,
      "outputs": [
        {
          "output_type": "stream",
          "name": "stdout",
          "text": [
            "{'Envio via Deposit Code', 'Como depositar ', 'Problemas de remessa', 'Como fazer remessa', 'Atualizacao de dados cadastrais', 'Registro/Atualizacao de Documento', 'Tempo para depositos refletirem no saldo'}\n",
            "{'Problemas/Duvidas sobre deposito', 'Problemas/Duvidas sobre remessas', 'Problemas/Duvidas de atualizacao de dados cadastrais', 'Dificuldades com utilizacao do App'}\n"
          ]
        }
      ]
    },
    {
      "cell_type": "code",
      "source": [
        "# Junção das bases\n",
        "baseGeral_QA = pd.merge(base2_QA, base3_QA, how='outer')"
      ],
      "metadata": {
        "id": "000AeA_GXVd3"
      },
      "execution_count": 477,
      "outputs": []
    },
    {
      "cell_type": "code",
      "source": [
        "# Remove uma coluna sem nome que contem somente IDs\n",
        "baseGeral_QA = baseGeral_QA[['Intencao', 'Pergunta', 'Resposta\\n']]"
      ],
      "metadata": {
        "id": "6aXNXmQlXg5d"
      },
      "execution_count": 478,
      "outputs": []
    },
    {
      "cell_type": "code",
      "source": [
        "# Renomeia o erro de digitação em 'Resposta'\n",
        "baseGeral_QA.rename(columns={'Resposta\\n':'Resposta'}, inplace=True)"
      ],
      "metadata": {
        "id": "P3kds4PlX3G7"
      },
      "execution_count": 479,
      "outputs": []
    },
    {
      "cell_type": "code",
      "execution_count": 480,
      "metadata": {
        "id": "Tjz3zErUILBn"
      },
      "outputs": [],
      "source": [
        "# Retirar Q&As que estão duplicadas\n",
        "baseGeral_QA.drop_duplicates(inplace=True)"
      ]
    },
    {
      "cell_type": "code",
      "source": [
        "# Reinicia os indexes\n",
        "baseGeral_QA.reset_index(drop=True, inplace=True)"
      ],
      "metadata": {
        "id": "AisLHkmjadcX"
      },
      "execution_count": 481,
      "outputs": []
    },
    {
      "cell_type": "code",
      "execution_count": 482,
      "metadata": {
        "colab": {
          "base_uri": "https://localhost:8080/"
        },
        "id": "FrqG7DeQIWa8",
        "outputId": "a0ef6607-ed6f-4f83-ce22-64d7b5c13c68"
      },
      "outputs": [
        {
          "output_type": "stream",
          "name": "stdout",
          "text": [
            "<class 'pandas.core.frame.DataFrame'>\n",
            "RangeIndex: 792 entries, 0 to 791\n",
            "Data columns (total 3 columns):\n",
            " #   Column    Non-Null Count  Dtype \n",
            "---  ------    --------------  ----- \n",
            " 0   Intencao  786 non-null    object\n",
            " 1   Pergunta  791 non-null    object\n",
            " 2   Resposta  781 non-null    object\n",
            "dtypes: object(3)\n",
            "memory usage: 18.7+ KB\n",
            "None\n"
          ]
        }
      ],
      "source": [
        "# Informações para averiguar se os processos foram executados com sucesso\n",
        "print(baseGeral_QA.info())"
      ]
    },
    {
      "cell_type": "code",
      "source": [
        "baseGeral_QA.head()"
      ],
      "metadata": {
        "colab": {
          "base_uri": "https://localhost:8080/",
          "height": 296
        },
        "id": "3mCGrKLOZp7U",
        "outputId": "86367d04-a104-4405-cb1a-9ff4c899a3df"
      },
      "execution_count": 483,
      "outputs": [
        {
          "output_type": "execute_result",
          "data": {
            "text/plain": [
              "                               Intencao  \\\n",
              "0                       Como depositar    \n",
              "1                    Como fazer remessa   \n",
              "2                      Tempo de remessa   \n",
              "3  Pedido de envio via metodo \"ByPhone\"   \n",
              "4  Pedido de envio via metodo \"ByPhone\"   \n",
              "\n",
              "                                                                                                                                      Pergunta  \\\n",
              "0  Boa dia.tudo bem?eu gostaria de saber sobre aquele caixa do family mart verde eh 24 horas?e se eu posso transferir a qualquer hora?obrigado   \n",
              "1                                                                                                               Como enviar dinheiro do Japão?   \n",
              "2                                                                                  Quanto tempo levará para o beneficiário receber o dinheiro?   \n",
              "3                                                                      Boa tarde\\nAcabei de fazer a transferência de 22+23, Total de 45Yenes\\n   \n",
              "4          Poderia fazer a remessa de 22yenes para o BBB RRR   obrigado\\nE de 23yenes para o AAAA MMMM VVVVV caixa econômica federal\\nObrigado   \n",
              "\n",
              "                                                                                                       Resposta  \n",
              "0         Bom dia! Sim, o sr pode utilizar o cartão de depósitos nesta máquinas 24 horas exclusivas do JP Bank.  \n",
              "1                                                                                                           NaN  \n",
              "2  Via de regra, as remessas serão pagas via PIX dentro de algumas horas, se todos os dados estiverem corretos.  \n",
              "3                                            iremos processar a sua solicitacao.\\nMuito obrigada e otima tarde.  \n",
              "4                                            iremos processar a sua solicitacao.\\nMuito obrigada e otima tarde.  "
            ],
            "text/html": [
              "\n",
              "  <div id=\"df-47175463-f224-4a7d-8f39-ed7462cd1e2e\" class=\"colab-df-container\">\n",
              "    <div>\n",
              "<style scoped>\n",
              "    .dataframe tbody tr th:only-of-type {\n",
              "        vertical-align: middle;\n",
              "    }\n",
              "\n",
              "    .dataframe tbody tr th {\n",
              "        vertical-align: top;\n",
              "    }\n",
              "\n",
              "    .dataframe thead th {\n",
              "        text-align: right;\n",
              "    }\n",
              "</style>\n",
              "<table border=\"1\" class=\"dataframe\">\n",
              "  <thead>\n",
              "    <tr style=\"text-align: right;\">\n",
              "      <th></th>\n",
              "      <th>Intencao</th>\n",
              "      <th>Pergunta</th>\n",
              "      <th>Resposta</th>\n",
              "    </tr>\n",
              "  </thead>\n",
              "  <tbody>\n",
              "    <tr>\n",
              "      <th>0</th>\n",
              "      <td>Como depositar</td>\n",
              "      <td>Boa dia.tudo bem?eu gostaria de saber sobre aquele caixa do family mart verde eh 24 horas?e se eu posso transferir a qualquer hora?obrigado</td>\n",
              "      <td>Bom dia! Sim, o sr pode utilizar o cartão de depósitos nesta máquinas 24 horas exclusivas do JP Bank.</td>\n",
              "    </tr>\n",
              "    <tr>\n",
              "      <th>1</th>\n",
              "      <td>Como fazer remessa</td>\n",
              "      <td>Como enviar dinheiro do Japão?</td>\n",
              "      <td>NaN</td>\n",
              "    </tr>\n",
              "    <tr>\n",
              "      <th>2</th>\n",
              "      <td>Tempo de remessa</td>\n",
              "      <td>Quanto tempo levará para o beneficiário receber o dinheiro?</td>\n",
              "      <td>Via de regra, as remessas serão pagas via PIX dentro de algumas horas, se todos os dados estiverem corretos.</td>\n",
              "    </tr>\n",
              "    <tr>\n",
              "      <th>3</th>\n",
              "      <td>Pedido de envio via metodo \"ByPhone\"</td>\n",
              "      <td>Boa tarde\\nAcabei de fazer a transferência de 22+23, Total de 45Yenes\\n</td>\n",
              "      <td>iremos processar a sua solicitacao.\\nMuito obrigada e otima tarde.</td>\n",
              "    </tr>\n",
              "    <tr>\n",
              "      <th>4</th>\n",
              "      <td>Pedido de envio via metodo \"ByPhone\"</td>\n",
              "      <td>Poderia fazer a remessa de 22yenes para o BBB RRR   obrigado\\nE de 23yenes para o AAAA MMMM VVVVV caixa econômica federal\\nObrigado</td>\n",
              "      <td>iremos processar a sua solicitacao.\\nMuito obrigada e otima tarde.</td>\n",
              "    </tr>\n",
              "  </tbody>\n",
              "</table>\n",
              "</div>\n",
              "    <div class=\"colab-df-buttons\">\n",
              "\n",
              "  <div class=\"colab-df-container\">\n",
              "    <button class=\"colab-df-convert\" onclick=\"convertToInteractive('df-47175463-f224-4a7d-8f39-ed7462cd1e2e')\"\n",
              "            title=\"Convert this dataframe to an interactive table.\"\n",
              "            style=\"display:none;\">\n",
              "\n",
              "  <svg xmlns=\"http://www.w3.org/2000/svg\" height=\"24px\" viewBox=\"0 -960 960 960\">\n",
              "    <path d=\"M120-120v-720h720v720H120Zm60-500h600v-160H180v160Zm220 220h160v-160H400v160Zm0 220h160v-160H400v160ZM180-400h160v-160H180v160Zm440 0h160v-160H620v160ZM180-180h160v-160H180v160Zm440 0h160v-160H620v160Z\"/>\n",
              "  </svg>\n",
              "    </button>\n",
              "\n",
              "  <style>\n",
              "    .colab-df-container {\n",
              "      display:flex;\n",
              "      gap: 12px;\n",
              "    }\n",
              "\n",
              "    .colab-df-convert {\n",
              "      background-color: #E8F0FE;\n",
              "      border: none;\n",
              "      border-radius: 50%;\n",
              "      cursor: pointer;\n",
              "      display: none;\n",
              "      fill: #1967D2;\n",
              "      height: 32px;\n",
              "      padding: 0 0 0 0;\n",
              "      width: 32px;\n",
              "    }\n",
              "\n",
              "    .colab-df-convert:hover {\n",
              "      background-color: #E2EBFA;\n",
              "      box-shadow: 0px 1px 2px rgba(60, 64, 67, 0.3), 0px 1px 3px 1px rgba(60, 64, 67, 0.15);\n",
              "      fill: #174EA6;\n",
              "    }\n",
              "\n",
              "    .colab-df-buttons div {\n",
              "      margin-bottom: 4px;\n",
              "    }\n",
              "\n",
              "    [theme=dark] .colab-df-convert {\n",
              "      background-color: #3B4455;\n",
              "      fill: #D2E3FC;\n",
              "    }\n",
              "\n",
              "    [theme=dark] .colab-df-convert:hover {\n",
              "      background-color: #434B5C;\n",
              "      box-shadow: 0px 1px 3px 1px rgba(0, 0, 0, 0.15);\n",
              "      filter: drop-shadow(0px 1px 2px rgba(0, 0, 0, 0.3));\n",
              "      fill: #FFFFFF;\n",
              "    }\n",
              "  </style>\n",
              "\n",
              "    <script>\n",
              "      const buttonEl =\n",
              "        document.querySelector('#df-47175463-f224-4a7d-8f39-ed7462cd1e2e button.colab-df-convert');\n",
              "      buttonEl.style.display =\n",
              "        google.colab.kernel.accessAllowed ? 'block' : 'none';\n",
              "\n",
              "      async function convertToInteractive(key) {\n",
              "        const element = document.querySelector('#df-47175463-f224-4a7d-8f39-ed7462cd1e2e');\n",
              "        const dataTable =\n",
              "          await google.colab.kernel.invokeFunction('convertToInteractive',\n",
              "                                                    [key], {});\n",
              "        if (!dataTable) return;\n",
              "\n",
              "        const docLinkHtml = 'Like what you see? Visit the ' +\n",
              "          '<a target=\"_blank\" href=https://colab.research.google.com/notebooks/data_table.ipynb>data table notebook</a>'\n",
              "          + ' to learn more about interactive tables.';\n",
              "        element.innerHTML = '';\n",
              "        dataTable['output_type'] = 'display_data';\n",
              "        await google.colab.output.renderOutput(dataTable, element);\n",
              "        const docLink = document.createElement('div');\n",
              "        docLink.innerHTML = docLinkHtml;\n",
              "        element.appendChild(docLink);\n",
              "      }\n",
              "    </script>\n",
              "  </div>\n",
              "\n",
              "\n",
              "<div id=\"df-311c0c86-e46e-4496-8bef-03e8d9abca5d\">\n",
              "  <button class=\"colab-df-quickchart\" onclick=\"quickchart('df-311c0c86-e46e-4496-8bef-03e8d9abca5d')\"\n",
              "            title=\"Suggest charts\"\n",
              "            style=\"display:none;\">\n",
              "\n",
              "<svg xmlns=\"http://www.w3.org/2000/svg\" height=\"24px\"viewBox=\"0 0 24 24\"\n",
              "     width=\"24px\">\n",
              "    <g>\n",
              "        <path d=\"M19 3H5c-1.1 0-2 .9-2 2v14c0 1.1.9 2 2 2h14c1.1 0 2-.9 2-2V5c0-1.1-.9-2-2-2zM9 17H7v-7h2v7zm4 0h-2V7h2v10zm4 0h-2v-4h2v4z\"/>\n",
              "    </g>\n",
              "</svg>\n",
              "  </button>\n",
              "\n",
              "<style>\n",
              "  .colab-df-quickchart {\n",
              "      --bg-color: #E8F0FE;\n",
              "      --fill-color: #1967D2;\n",
              "      --hover-bg-color: #E2EBFA;\n",
              "      --hover-fill-color: #174EA6;\n",
              "      --disabled-fill-color: #AAA;\n",
              "      --disabled-bg-color: #DDD;\n",
              "  }\n",
              "\n",
              "  [theme=dark] .colab-df-quickchart {\n",
              "      --bg-color: #3B4455;\n",
              "      --fill-color: #D2E3FC;\n",
              "      --hover-bg-color: #434B5C;\n",
              "      --hover-fill-color: #FFFFFF;\n",
              "      --disabled-bg-color: #3B4455;\n",
              "      --disabled-fill-color: #666;\n",
              "  }\n",
              "\n",
              "  .colab-df-quickchart {\n",
              "    background-color: var(--bg-color);\n",
              "    border: none;\n",
              "    border-radius: 50%;\n",
              "    cursor: pointer;\n",
              "    display: none;\n",
              "    fill: var(--fill-color);\n",
              "    height: 32px;\n",
              "    padding: 0;\n",
              "    width: 32px;\n",
              "  }\n",
              "\n",
              "  .colab-df-quickchart:hover {\n",
              "    background-color: var(--hover-bg-color);\n",
              "    box-shadow: 0 1px 2px rgba(60, 64, 67, 0.3), 0 1px 3px 1px rgba(60, 64, 67, 0.15);\n",
              "    fill: var(--button-hover-fill-color);\n",
              "  }\n",
              "\n",
              "  .colab-df-quickchart-complete:disabled,\n",
              "  .colab-df-quickchart-complete:disabled:hover {\n",
              "    background-color: var(--disabled-bg-color);\n",
              "    fill: var(--disabled-fill-color);\n",
              "    box-shadow: none;\n",
              "  }\n",
              "\n",
              "  .colab-df-spinner {\n",
              "    border: 2px solid var(--fill-color);\n",
              "    border-color: transparent;\n",
              "    border-bottom-color: var(--fill-color);\n",
              "    animation:\n",
              "      spin 1s steps(1) infinite;\n",
              "  }\n",
              "\n",
              "  @keyframes spin {\n",
              "    0% {\n",
              "      border-color: transparent;\n",
              "      border-bottom-color: var(--fill-color);\n",
              "      border-left-color: var(--fill-color);\n",
              "    }\n",
              "    20% {\n",
              "      border-color: transparent;\n",
              "      border-left-color: var(--fill-color);\n",
              "      border-top-color: var(--fill-color);\n",
              "    }\n",
              "    30% {\n",
              "      border-color: transparent;\n",
              "      border-left-color: var(--fill-color);\n",
              "      border-top-color: var(--fill-color);\n",
              "      border-right-color: var(--fill-color);\n",
              "    }\n",
              "    40% {\n",
              "      border-color: transparent;\n",
              "      border-right-color: var(--fill-color);\n",
              "      border-top-color: var(--fill-color);\n",
              "    }\n",
              "    60% {\n",
              "      border-color: transparent;\n",
              "      border-right-color: var(--fill-color);\n",
              "    }\n",
              "    80% {\n",
              "      border-color: transparent;\n",
              "      border-right-color: var(--fill-color);\n",
              "      border-bottom-color: var(--fill-color);\n",
              "    }\n",
              "    90% {\n",
              "      border-color: transparent;\n",
              "      border-bottom-color: var(--fill-color);\n",
              "    }\n",
              "  }\n",
              "</style>\n",
              "\n",
              "  <script>\n",
              "    async function quickchart(key) {\n",
              "      const quickchartButtonEl =\n",
              "        document.querySelector('#' + key + ' button');\n",
              "      quickchartButtonEl.disabled = true;  // To prevent multiple clicks.\n",
              "      quickchartButtonEl.classList.add('colab-df-spinner');\n",
              "      try {\n",
              "        const charts = await google.colab.kernel.invokeFunction(\n",
              "            'suggestCharts', [key], {});\n",
              "      } catch (error) {\n",
              "        console.error('Error during call to suggestCharts:', error);\n",
              "      }\n",
              "      quickchartButtonEl.classList.remove('colab-df-spinner');\n",
              "      quickchartButtonEl.classList.add('colab-df-quickchart-complete');\n",
              "    }\n",
              "    (() => {\n",
              "      let quickchartButtonEl =\n",
              "        document.querySelector('#df-311c0c86-e46e-4496-8bef-03e8d9abca5d button');\n",
              "      quickchartButtonEl.style.display =\n",
              "        google.colab.kernel.accessAllowed ? 'block' : 'none';\n",
              "    })();\n",
              "  </script>\n",
              "</div>\n",
              "\n",
              "    </div>\n",
              "  </div>\n"
            ],
            "application/vnd.google.colaboratory.intrinsic+json": {
              "type": "dataframe",
              "variable_name": "baseGeral_QA",
              "summary": "{\n  \"name\": \"baseGeral_QA\",\n  \"rows\": 792,\n  \"fields\": [\n    {\n      \"column\": \"Intencao\",\n      \"properties\": {\n        \"dtype\": \"category\",\n        \"num_unique_values\": 23,\n        \"samples\": [\n          \"Regras do servico\",\n          \"Cadastro de beneficiario\",\n          \"Como depositar \"\n        ],\n        \"semantic_type\": \"\",\n        \"description\": \"\"\n      }\n    },\n    {\n      \"column\": \"Pergunta\",\n      \"properties\": {\n        \"dtype\": \"string\",\n        \"num_unique_values\": 639,\n        \"samples\": [\n          \"Ol\\u00e1! Tudo bem gostaria fazer cadastro\",\n          \"Ok, entendi, vou providenciar um familiar pra fazer a remessa !\\nComo que pe\\u00e7o o reembolso dos valores ?\",\n          \"Boa noite!\\nenvie dinheiro para uma conta errada\"\n        ],\n        \"semantic_type\": \"\",\n        \"description\": \"\"\n      }\n    },\n    {\n      \"column\": \"Resposta\",\n      \"properties\": {\n        \"dtype\": \"string\",\n        \"num_unique_values\": 607,\n        \"samples\": [\n          \"Boa noite\\nPoderia confirmar o seu endere\\u00e7o, por gentileza?\",\n          \"Boa tarde,\\nPor favor, poderia nos enviar a foto da sua caderneta banc\\u00e1ria (contra-capa)?\\nTaxa de reembolso: 750 ienes\",\n          \"E voc\\u00ea pode enviar para sua pr\\u00f3pria conta no Brasil.\"\n        ],\n        \"semantic_type\": \"\",\n        \"description\": \"\"\n      }\n    }\n  ]\n}"
            }
          },
          "metadata": {},
          "execution_count": 483
        }
      ]
    },
    {
      "cell_type": "markdown",
      "source": [
        "### Merge das Bases"
      ],
      "metadata": {
        "id": "W0qyw12xMnZn"
      }
    },
    {
      "cell_type": "code",
      "source": [
        "baseGeral = baseGeral_QA\n",
        "\n",
        "baseGeral = baseGeral[['Intencao', 'Pergunta', 'Resposta']]"
      ],
      "metadata": {
        "id": "p_wS-VcrMlZK"
      },
      "execution_count": 496,
      "outputs": []
    },
    {
      "cell_type": "code",
      "source": [
        "baseGeral = baseGeral.replace('', pd.NA)\n",
        "baseGeral = baseGeral.dropna()"
      ],
      "metadata": {
        "id": "mWenGbjhocc1"
      },
      "execution_count": 497,
      "outputs": []
    },
    {
      "cell_type": "code",
      "source": [
        "baseGeral.head()"
      ],
      "metadata": {
        "colab": {
          "base_uri": "https://localhost:8080/",
          "height": 313
        },
        "id": "y1D2wITHM2Jy",
        "outputId": "e3ff48d4-8789-48c3-af41-933502f4633c"
      },
      "execution_count": 498,
      "outputs": [
        {
          "output_type": "execute_result",
          "data": {
            "text/plain": [
              "                               Intencao  \\\n",
              "0                       Como depositar    \n",
              "2                      Tempo de remessa   \n",
              "3  Pedido de envio via metodo \"ByPhone\"   \n",
              "4  Pedido de envio via metodo \"ByPhone\"   \n",
              "5  Pedido de envio via metodo \"ByPhone\"   \n",
              "\n",
              "                                                                                                                                      Pergunta  \\\n",
              "0  Boa dia.tudo bem?eu gostaria de saber sobre aquele caixa do family mart verde eh 24 horas?e se eu posso transferir a qualquer hora?obrigado   \n",
              "2                                                                                  Quanto tempo levará para o beneficiário receber o dinheiro?   \n",
              "3                                                                      Boa tarde\\nAcabei de fazer a transferência de 22+23, Total de 45Yenes\\n   \n",
              "4          Poderia fazer a remessa de 22yenes para o BBB RRR   obrigado\\nE de 23yenes para o AAAA MMMM VVVVV caixa econômica federal\\nObrigado   \n",
              "5                       Boa tarde\\nAcabei de fazer uma transferência para conta de vocês no valor de 50.700 a ser descontado a taxa de vocês\\n   \n",
              "\n",
              "                                                                                                       Resposta  \n",
              "0         Bom dia! Sim, o sr pode utilizar o cartão de depósitos nesta máquinas 24 horas exclusivas do JP Bank.  \n",
              "2  Via de regra, as remessas serão pagas via PIX dentro de algumas horas, se todos os dados estiverem corretos.  \n",
              "3                                            iremos processar a sua solicitacao.\\nMuito obrigada e otima tarde.  \n",
              "4                                            iremos processar a sua solicitacao.\\nMuito obrigada e otima tarde.  \n",
              "5                                                         Bom dia! Processaremos conforme solicitado. Obrigado!  "
            ],
            "text/html": [
              "\n",
              "  <div id=\"df-25c84f64-eaae-46b6-9d7a-8cca743f5b80\" class=\"colab-df-container\">\n",
              "    <div>\n",
              "<style scoped>\n",
              "    .dataframe tbody tr th:only-of-type {\n",
              "        vertical-align: middle;\n",
              "    }\n",
              "\n",
              "    .dataframe tbody tr th {\n",
              "        vertical-align: top;\n",
              "    }\n",
              "\n",
              "    .dataframe thead th {\n",
              "        text-align: right;\n",
              "    }\n",
              "</style>\n",
              "<table border=\"1\" class=\"dataframe\">\n",
              "  <thead>\n",
              "    <tr style=\"text-align: right;\">\n",
              "      <th></th>\n",
              "      <th>Intencao</th>\n",
              "      <th>Pergunta</th>\n",
              "      <th>Resposta</th>\n",
              "    </tr>\n",
              "  </thead>\n",
              "  <tbody>\n",
              "    <tr>\n",
              "      <th>0</th>\n",
              "      <td>Como depositar</td>\n",
              "      <td>Boa dia.tudo bem?eu gostaria de saber sobre aquele caixa do family mart verde eh 24 horas?e se eu posso transferir a qualquer hora?obrigado</td>\n",
              "      <td>Bom dia! Sim, o sr pode utilizar o cartão de depósitos nesta máquinas 24 horas exclusivas do JP Bank.</td>\n",
              "    </tr>\n",
              "    <tr>\n",
              "      <th>2</th>\n",
              "      <td>Tempo de remessa</td>\n",
              "      <td>Quanto tempo levará para o beneficiário receber o dinheiro?</td>\n",
              "      <td>Via de regra, as remessas serão pagas via PIX dentro de algumas horas, se todos os dados estiverem corretos.</td>\n",
              "    </tr>\n",
              "    <tr>\n",
              "      <th>3</th>\n",
              "      <td>Pedido de envio via metodo \"ByPhone\"</td>\n",
              "      <td>Boa tarde\\nAcabei de fazer a transferência de 22+23, Total de 45Yenes\\n</td>\n",
              "      <td>iremos processar a sua solicitacao.\\nMuito obrigada e otima tarde.</td>\n",
              "    </tr>\n",
              "    <tr>\n",
              "      <th>4</th>\n",
              "      <td>Pedido de envio via metodo \"ByPhone\"</td>\n",
              "      <td>Poderia fazer a remessa de 22yenes para o BBB RRR   obrigado\\nE de 23yenes para o AAAA MMMM VVVVV caixa econômica federal\\nObrigado</td>\n",
              "      <td>iremos processar a sua solicitacao.\\nMuito obrigada e otima tarde.</td>\n",
              "    </tr>\n",
              "    <tr>\n",
              "      <th>5</th>\n",
              "      <td>Pedido de envio via metodo \"ByPhone\"</td>\n",
              "      <td>Boa tarde\\nAcabei de fazer uma transferência para conta de vocês no valor de 50.700 a ser descontado a taxa de vocês\\n</td>\n",
              "      <td>Bom dia! Processaremos conforme solicitado. Obrigado!</td>\n",
              "    </tr>\n",
              "  </tbody>\n",
              "</table>\n",
              "</div>\n",
              "    <div class=\"colab-df-buttons\">\n",
              "\n",
              "  <div class=\"colab-df-container\">\n",
              "    <button class=\"colab-df-convert\" onclick=\"convertToInteractive('df-25c84f64-eaae-46b6-9d7a-8cca743f5b80')\"\n",
              "            title=\"Convert this dataframe to an interactive table.\"\n",
              "            style=\"display:none;\">\n",
              "\n",
              "  <svg xmlns=\"http://www.w3.org/2000/svg\" height=\"24px\" viewBox=\"0 -960 960 960\">\n",
              "    <path d=\"M120-120v-720h720v720H120Zm60-500h600v-160H180v160Zm220 220h160v-160H400v160Zm0 220h160v-160H400v160ZM180-400h160v-160H180v160Zm440 0h160v-160H620v160ZM180-180h160v-160H180v160Zm440 0h160v-160H620v160Z\"/>\n",
              "  </svg>\n",
              "    </button>\n",
              "\n",
              "  <style>\n",
              "    .colab-df-container {\n",
              "      display:flex;\n",
              "      gap: 12px;\n",
              "    }\n",
              "\n",
              "    .colab-df-convert {\n",
              "      background-color: #E8F0FE;\n",
              "      border: none;\n",
              "      border-radius: 50%;\n",
              "      cursor: pointer;\n",
              "      display: none;\n",
              "      fill: #1967D2;\n",
              "      height: 32px;\n",
              "      padding: 0 0 0 0;\n",
              "      width: 32px;\n",
              "    }\n",
              "\n",
              "    .colab-df-convert:hover {\n",
              "      background-color: #E2EBFA;\n",
              "      box-shadow: 0px 1px 2px rgba(60, 64, 67, 0.3), 0px 1px 3px 1px rgba(60, 64, 67, 0.15);\n",
              "      fill: #174EA6;\n",
              "    }\n",
              "\n",
              "    .colab-df-buttons div {\n",
              "      margin-bottom: 4px;\n",
              "    }\n",
              "\n",
              "    [theme=dark] .colab-df-convert {\n",
              "      background-color: #3B4455;\n",
              "      fill: #D2E3FC;\n",
              "    }\n",
              "\n",
              "    [theme=dark] .colab-df-convert:hover {\n",
              "      background-color: #434B5C;\n",
              "      box-shadow: 0px 1px 3px 1px rgba(0, 0, 0, 0.15);\n",
              "      filter: drop-shadow(0px 1px 2px rgba(0, 0, 0, 0.3));\n",
              "      fill: #FFFFFF;\n",
              "    }\n",
              "  </style>\n",
              "\n",
              "    <script>\n",
              "      const buttonEl =\n",
              "        document.querySelector('#df-25c84f64-eaae-46b6-9d7a-8cca743f5b80 button.colab-df-convert');\n",
              "      buttonEl.style.display =\n",
              "        google.colab.kernel.accessAllowed ? 'block' : 'none';\n",
              "\n",
              "      async function convertToInteractive(key) {\n",
              "        const element = document.querySelector('#df-25c84f64-eaae-46b6-9d7a-8cca743f5b80');\n",
              "        const dataTable =\n",
              "          await google.colab.kernel.invokeFunction('convertToInteractive',\n",
              "                                                    [key], {});\n",
              "        if (!dataTable) return;\n",
              "\n",
              "        const docLinkHtml = 'Like what you see? Visit the ' +\n",
              "          '<a target=\"_blank\" href=https://colab.research.google.com/notebooks/data_table.ipynb>data table notebook</a>'\n",
              "          + ' to learn more about interactive tables.';\n",
              "        element.innerHTML = '';\n",
              "        dataTable['output_type'] = 'display_data';\n",
              "        await google.colab.output.renderOutput(dataTable, element);\n",
              "        const docLink = document.createElement('div');\n",
              "        docLink.innerHTML = docLinkHtml;\n",
              "        element.appendChild(docLink);\n",
              "      }\n",
              "    </script>\n",
              "  </div>\n",
              "\n",
              "\n",
              "<div id=\"df-a2110c78-aa13-4e33-bb8a-7f7836fc95e0\">\n",
              "  <button class=\"colab-df-quickchart\" onclick=\"quickchart('df-a2110c78-aa13-4e33-bb8a-7f7836fc95e0')\"\n",
              "            title=\"Suggest charts\"\n",
              "            style=\"display:none;\">\n",
              "\n",
              "<svg xmlns=\"http://www.w3.org/2000/svg\" height=\"24px\"viewBox=\"0 0 24 24\"\n",
              "     width=\"24px\">\n",
              "    <g>\n",
              "        <path d=\"M19 3H5c-1.1 0-2 .9-2 2v14c0 1.1.9 2 2 2h14c1.1 0 2-.9 2-2V5c0-1.1-.9-2-2-2zM9 17H7v-7h2v7zm4 0h-2V7h2v10zm4 0h-2v-4h2v4z\"/>\n",
              "    </g>\n",
              "</svg>\n",
              "  </button>\n",
              "\n",
              "<style>\n",
              "  .colab-df-quickchart {\n",
              "      --bg-color: #E8F0FE;\n",
              "      --fill-color: #1967D2;\n",
              "      --hover-bg-color: #E2EBFA;\n",
              "      --hover-fill-color: #174EA6;\n",
              "      --disabled-fill-color: #AAA;\n",
              "      --disabled-bg-color: #DDD;\n",
              "  }\n",
              "\n",
              "  [theme=dark] .colab-df-quickchart {\n",
              "      --bg-color: #3B4455;\n",
              "      --fill-color: #D2E3FC;\n",
              "      --hover-bg-color: #434B5C;\n",
              "      --hover-fill-color: #FFFFFF;\n",
              "      --disabled-bg-color: #3B4455;\n",
              "      --disabled-fill-color: #666;\n",
              "  }\n",
              "\n",
              "  .colab-df-quickchart {\n",
              "    background-color: var(--bg-color);\n",
              "    border: none;\n",
              "    border-radius: 50%;\n",
              "    cursor: pointer;\n",
              "    display: none;\n",
              "    fill: var(--fill-color);\n",
              "    height: 32px;\n",
              "    padding: 0;\n",
              "    width: 32px;\n",
              "  }\n",
              "\n",
              "  .colab-df-quickchart:hover {\n",
              "    background-color: var(--hover-bg-color);\n",
              "    box-shadow: 0 1px 2px rgba(60, 64, 67, 0.3), 0 1px 3px 1px rgba(60, 64, 67, 0.15);\n",
              "    fill: var(--button-hover-fill-color);\n",
              "  }\n",
              "\n",
              "  .colab-df-quickchart-complete:disabled,\n",
              "  .colab-df-quickchart-complete:disabled:hover {\n",
              "    background-color: var(--disabled-bg-color);\n",
              "    fill: var(--disabled-fill-color);\n",
              "    box-shadow: none;\n",
              "  }\n",
              "\n",
              "  .colab-df-spinner {\n",
              "    border: 2px solid var(--fill-color);\n",
              "    border-color: transparent;\n",
              "    border-bottom-color: var(--fill-color);\n",
              "    animation:\n",
              "      spin 1s steps(1) infinite;\n",
              "  }\n",
              "\n",
              "  @keyframes spin {\n",
              "    0% {\n",
              "      border-color: transparent;\n",
              "      border-bottom-color: var(--fill-color);\n",
              "      border-left-color: var(--fill-color);\n",
              "    }\n",
              "    20% {\n",
              "      border-color: transparent;\n",
              "      border-left-color: var(--fill-color);\n",
              "      border-top-color: var(--fill-color);\n",
              "    }\n",
              "    30% {\n",
              "      border-color: transparent;\n",
              "      border-left-color: var(--fill-color);\n",
              "      border-top-color: var(--fill-color);\n",
              "      border-right-color: var(--fill-color);\n",
              "    }\n",
              "    40% {\n",
              "      border-color: transparent;\n",
              "      border-right-color: var(--fill-color);\n",
              "      border-top-color: var(--fill-color);\n",
              "    }\n",
              "    60% {\n",
              "      border-color: transparent;\n",
              "      border-right-color: var(--fill-color);\n",
              "    }\n",
              "    80% {\n",
              "      border-color: transparent;\n",
              "      border-right-color: var(--fill-color);\n",
              "      border-bottom-color: var(--fill-color);\n",
              "    }\n",
              "    90% {\n",
              "      border-color: transparent;\n",
              "      border-bottom-color: var(--fill-color);\n",
              "    }\n",
              "  }\n",
              "</style>\n",
              "\n",
              "  <script>\n",
              "    async function quickchart(key) {\n",
              "      const quickchartButtonEl =\n",
              "        document.querySelector('#' + key + ' button');\n",
              "      quickchartButtonEl.disabled = true;  // To prevent multiple clicks.\n",
              "      quickchartButtonEl.classList.add('colab-df-spinner');\n",
              "      try {\n",
              "        const charts = await google.colab.kernel.invokeFunction(\n",
              "            'suggestCharts', [key], {});\n",
              "      } catch (error) {\n",
              "        console.error('Error during call to suggestCharts:', error);\n",
              "      }\n",
              "      quickchartButtonEl.classList.remove('colab-df-spinner');\n",
              "      quickchartButtonEl.classList.add('colab-df-quickchart-complete');\n",
              "    }\n",
              "    (() => {\n",
              "      let quickchartButtonEl =\n",
              "        document.querySelector('#df-a2110c78-aa13-4e33-bb8a-7f7836fc95e0 button');\n",
              "      quickchartButtonEl.style.display =\n",
              "        google.colab.kernel.accessAllowed ? 'block' : 'none';\n",
              "    })();\n",
              "  </script>\n",
              "</div>\n",
              "\n",
              "    </div>\n",
              "  </div>\n"
            ],
            "application/vnd.google.colaboratory.intrinsic+json": {
              "type": "dataframe",
              "variable_name": "baseGeral",
              "summary": "{\n  \"name\": \"baseGeral\",\n  \"rows\": 776,\n  \"fields\": [\n    {\n      \"column\": \"Intencao\",\n      \"properties\": {\n        \"dtype\": \"category\",\n        \"num_unique_values\": 23,\n        \"samples\": [\n          \"Regras do servico\",\n          \"Acesso a conta\",\n          \"Como depositar \"\n        ],\n        \"semantic_type\": \"\",\n        \"description\": \"\"\n      }\n    },\n    {\n      \"column\": \"Pergunta\",\n      \"properties\": {\n        \"dtype\": \"string\",\n        \"num_unique_values\": 627,\n        \"samples\": [\n          \"Ola boa tarde , ontem umas 23:27 fiz um dep\\u00f3sito no valor de 10 mil yen , at\\u00e9 agora n\\u00e3o chegou na conta , ser\\u00e1 que aconteceu algo de errado ?\\ntem como me ajudar em rela\\u00e7\\u00e3o a isso\",\n          \"Quero enviar valores para uma minha conta banc\\u00e1ria no Brasil.\\nComo posso proceder?\\nMe adiciono nos benefici\\u00e1rios?\",\n          \"Fiz essa transfer\\u00eancia pelo app do correio mas parece que n\\u00e3o inseri o c\\u00f3digo para compensa\\u00e7\\u00e3o imediata\\nN\\u00e3o consigo entrar na transa\\u00e7\\u00e3o em quest\\u00e3o, pelo app\"\n        ],\n        \"semantic_type\": \"\",\n        \"description\": \"\"\n      }\n    },\n    {\n      \"column\": \"Resposta\",\n      \"properties\": {\n        \"dtype\": \"string\",\n        \"num_unique_values\": 602,\n        \"samples\": [\n          \"Bom dia\\nR$ 134,00\\n\",\n          \"Bom dia\\nVoc\\u00ea esqueceu a senha de acesso ao seu aplicativo?\\nVoc\\u00ea tem acesso a esse email (xxxxx@aaa.com) ?\",\n          \"Bom dia,\\nO cart\\u00e3o tem um prazo de 3 a 4 dias \\u00fateis para ser entregue.\"\n        ],\n        \"semantic_type\": \"\",\n        \"description\": \"\"\n      }\n    }\n  ]\n}"
            }
          },
          "metadata": {},
          "execution_count": 498
        }
      ]
    },
    {
      "cell_type": "code",
      "source": [
        "baseGeral.info()"
      ],
      "metadata": {
        "colab": {
          "base_uri": "https://localhost:8080/"
        },
        "id": "ENO4aXjpNjnD",
        "outputId": "9d8c9451-7cf9-4239-80c6-8b3582949cb6"
      },
      "execution_count": 499,
      "outputs": [
        {
          "output_type": "stream",
          "name": "stdout",
          "text": [
            "<class 'pandas.core.frame.DataFrame'>\n",
            "Index: 776 entries, 0 to 786\n",
            "Data columns (total 3 columns):\n",
            " #   Column    Non-Null Count  Dtype \n",
            "---  ------    --------------  ----- \n",
            " 0   Intencao  776 non-null    object\n",
            " 1   Pergunta  776 non-null    object\n",
            " 2   Resposta  776 non-null    object\n",
            "dtypes: object(3)\n",
            "memory usage: 24.2+ KB\n"
          ]
        }
      ]
    },
    {
      "cell_type": "markdown",
      "metadata": {
        "id": "4RZNFEbqI7Jl"
      },
      "source": [
        "# 2. Pipeline\n",
        "\n",
        "**Etapa importante para lidar com os textos do dataframe futuramente.**\n",
        "\n",
        "**Nesta etapa, o processo de pré-processamento de dados foi separado nas seguintes etapas a seguir:**\n",
        "\n",
        "Limpeza dos dados do dataframe: remover os espaços em excesso e converter o texto em uma frase de uma linha"
      ]
    },
    {
      "cell_type": "markdown",
      "metadata": {
        "id": "iyT_W4giL-Bg"
      },
      "source": [
        "## Normalização e remoção de dados que não serão utilizados"
      ]
    },
    {
      "cell_type": "code",
      "execution_count": 500,
      "metadata": {
        "id": "_PZxtC7OJQMC",
        "colab": {
          "base_uri": "https://localhost:8080/"
        },
        "outputId": "58e9eb5b-1a5b-4c98-aea7-306bdea263ca"
      },
      "outputs": [
        {
          "output_type": "stream",
          "name": "stderr",
          "text": [
            "<ipython-input-500-a1ccc49d3d2d>:14: FutureWarning: DataFrame.applymap has been deprecated. Use DataFrame.map instead.\n",
            "  baseGeral = baseGeral[~baseGeral.applymap(lambda x: isinstance(x, str) and re.match(r'^\\s*$', x)).any(axis=1)]\n"
          ]
        }
      ],
      "source": [
        "# Substituir quebras de linha por espaços\n",
        "baseGeral['Pergunta'] = baseGeral['Pergunta'].apply(lambda x: re.sub(r'\\n', ' ', str(x)))\n",
        "baseGeral['Resposta'] = baseGeral['Resposta'].apply(lambda x: re.sub(r'\\n', ' ', str(x)))\n",
        "\n",
        "# Remover espaços extras do dataframe\n",
        "baseGeral['Pergunta'] = baseGeral['Pergunta'].apply(lambda x: re.sub(r'\\s+', ' ', str(x)))\n",
        "baseGeral['Resposta'] = baseGeral['Resposta'].apply(lambda x: re.sub(r'\\s+', ' ', str(x)))\n",
        "\n",
        "# Remove rows with empty strings in any column\n",
        "baseGeral = baseGeral.replace('', pd.NA)\n",
        "baseGeral = baseGeral.dropna()\n",
        "\n",
        "# Remove rows where any column contains only newline characters or whitespace\n",
        "baseGeral = baseGeral[~baseGeral.applymap(lambda x: isinstance(x, str) and re.match(r'^\\s*$', x)).any(axis=1)]"
      ]
    },
    {
      "cell_type": "markdown",
      "metadata": {
        "id": "j8kGZV2dP4aQ"
      },
      "source": [
        "## Dicionário das abreviações encontradas na base de dados\n",
        "\n",
        "Dicionário para conversão de abreviações para palavras por extenso: foi feita uma análise das principais abreviações que apareciam no dataframe e, com base nisso, criado um dicionário que é usado para substituir cada abreviação por sua palavra por extenso através de um loop que percorre as principais colunas que estamos usando;\n"
      ]
    },
    {
      "cell_type": "code",
      "execution_count": 501,
      "metadata": {
        "id": "1Xs-i7qvP9Vd"
      },
      "outputs": [],
      "source": [
        "# Criação de um dicionário para tratar abreviações do dataframe\n",
        "abreviacoes = {\n",
        "    'add': 'adicionar',\n",
        "    'app': 'aplicativo',\n",
        "    'pq': 'porque',\n",
        "    'vc': 'você',\n",
        "    'vcs': 'vocês',\n",
        "    'sr': 'senhor',\n",
        "    'sra': 'senhora',\n",
        "    'srto': 'senhorito',\n",
        "    'srta': 'senhorita',\n",
        "    'qdo': 'quando',\n",
        "    'qdo': 'quando',\n",
        "    'qt': 'quanto',\n",
        "    'qto': 'quanto',\n",
        "    'pra': 'para',\n",
        "    'q': 'que',\n",
        "    'p': 'para',\n",
        "    'pf': 'por favor',\n",
        "    'yenes': 'ienes',\n",
        "    'yens': 'ienes',\n",
        "    'iens': 'ienes',\n",
        "    'hj': 'hoje',\n",
        "    'obg': 'obrigado',\n",
        "    'td': 'tudo',\n",
        "    'bm': 'bom',\n",
        "\n",
        "    'usuario': 'usuário',\n",
        "    'Usuario': 'Usuário',\n",
        "    'voce': 'você',\n",
        "    'Voce': 'Você',\n",
        "    'nao': 'não',\n",
        "    'Nao': 'Não',\n",
        "    'ola': 'olá',\n",
        "    'Ola': 'Olá'\n",
        "}"
      ]
    },
    {
      "cell_type": "code",
      "execution_count": 502,
      "metadata": {
        "id": "QHtk0njrQCA9"
      },
      "outputs": [],
      "source": [
        "# Substituindo as abreviações das palavras para extenso em toda a base de dados de uma vez\n",
        "def substituir_abreviacoes(texto, abreviacoes):\n",
        "    for abreviacao, palavra in abreviacoes.items():\n",
        "        texto = texto.str.replace(r'\\b' + abreviacao + r'\\b', palavra, regex=True)\n",
        "    return texto\n",
        "\n",
        "# Aplicando a função para substituir abreviações nas colunas específicas\n",
        "baseGeral['Pergunta'] = substituir_abreviacoes(baseGeral['Pergunta'], abreviacoes)\n",
        "baseGeral['Resposta'] = substituir_abreviacoes(baseGeral['Resposta'], abreviacoes)"
      ]
    },
    {
      "cell_type": "code",
      "execution_count": 503,
      "metadata": {
        "colab": {
          "base_uri": "https://localhost:8080/",
          "height": 118
        },
        "id": "yqg4y7GNQQeP",
        "outputId": "e787b187-d12d-4f9f-9284-2881844ab43d"
      },
      "outputs": [
        {
          "output_type": "execute_result",
          "data": {
            "text/plain": [
              "          Intencao  \\\n",
              "0  Como depositar    \n",
              "\n",
              "                                                                                                                                      Pergunta  \\\n",
              "0  Boa dia.tudo bem?eu gostaria de saber sobre aquele caixa do family mart verde eh 24 horas?e se eu posso transferir a qualquer hora?obrigado   \n",
              "\n",
              "                                                                                                    Resposta  \n",
              "0  Bom dia! Sim, o senhor pode utilizar o cartão de depósitos nesta máquinas 24 horas exclusivas do JP Bank.  "
            ],
            "text/html": [
              "\n",
              "  <div id=\"df-11e4e13a-01bc-44d2-9d4a-c06bec6129b1\" class=\"colab-df-container\">\n",
              "    <div>\n",
              "<style scoped>\n",
              "    .dataframe tbody tr th:only-of-type {\n",
              "        vertical-align: middle;\n",
              "    }\n",
              "\n",
              "    .dataframe tbody tr th {\n",
              "        vertical-align: top;\n",
              "    }\n",
              "\n",
              "    .dataframe thead th {\n",
              "        text-align: right;\n",
              "    }\n",
              "</style>\n",
              "<table border=\"1\" class=\"dataframe\">\n",
              "  <thead>\n",
              "    <tr style=\"text-align: right;\">\n",
              "      <th></th>\n",
              "      <th>Intencao</th>\n",
              "      <th>Pergunta</th>\n",
              "      <th>Resposta</th>\n",
              "    </tr>\n",
              "  </thead>\n",
              "  <tbody>\n",
              "    <tr>\n",
              "      <th>0</th>\n",
              "      <td>Como depositar</td>\n",
              "      <td>Boa dia.tudo bem?eu gostaria de saber sobre aquele caixa do family mart verde eh 24 horas?e se eu posso transferir a qualquer hora?obrigado</td>\n",
              "      <td>Bom dia! Sim, o senhor pode utilizar o cartão de depósitos nesta máquinas 24 horas exclusivas do JP Bank.</td>\n",
              "    </tr>\n",
              "  </tbody>\n",
              "</table>\n",
              "</div>\n",
              "    <div class=\"colab-df-buttons\">\n",
              "\n",
              "  <div class=\"colab-df-container\">\n",
              "    <button class=\"colab-df-convert\" onclick=\"convertToInteractive('df-11e4e13a-01bc-44d2-9d4a-c06bec6129b1')\"\n",
              "            title=\"Convert this dataframe to an interactive table.\"\n",
              "            style=\"display:none;\">\n",
              "\n",
              "  <svg xmlns=\"http://www.w3.org/2000/svg\" height=\"24px\" viewBox=\"0 -960 960 960\">\n",
              "    <path d=\"M120-120v-720h720v720H120Zm60-500h600v-160H180v160Zm220 220h160v-160H400v160Zm0 220h160v-160H400v160ZM180-400h160v-160H180v160Zm440 0h160v-160H620v160ZM180-180h160v-160H180v160Zm440 0h160v-160H620v160Z\"/>\n",
              "  </svg>\n",
              "    </button>\n",
              "\n",
              "  <style>\n",
              "    .colab-df-container {\n",
              "      display:flex;\n",
              "      gap: 12px;\n",
              "    }\n",
              "\n",
              "    .colab-df-convert {\n",
              "      background-color: #E8F0FE;\n",
              "      border: none;\n",
              "      border-radius: 50%;\n",
              "      cursor: pointer;\n",
              "      display: none;\n",
              "      fill: #1967D2;\n",
              "      height: 32px;\n",
              "      padding: 0 0 0 0;\n",
              "      width: 32px;\n",
              "    }\n",
              "\n",
              "    .colab-df-convert:hover {\n",
              "      background-color: #E2EBFA;\n",
              "      box-shadow: 0px 1px 2px rgba(60, 64, 67, 0.3), 0px 1px 3px 1px rgba(60, 64, 67, 0.15);\n",
              "      fill: #174EA6;\n",
              "    }\n",
              "\n",
              "    .colab-df-buttons div {\n",
              "      margin-bottom: 4px;\n",
              "    }\n",
              "\n",
              "    [theme=dark] .colab-df-convert {\n",
              "      background-color: #3B4455;\n",
              "      fill: #D2E3FC;\n",
              "    }\n",
              "\n",
              "    [theme=dark] .colab-df-convert:hover {\n",
              "      background-color: #434B5C;\n",
              "      box-shadow: 0px 1px 3px 1px rgba(0, 0, 0, 0.15);\n",
              "      filter: drop-shadow(0px 1px 2px rgba(0, 0, 0, 0.3));\n",
              "      fill: #FFFFFF;\n",
              "    }\n",
              "  </style>\n",
              "\n",
              "    <script>\n",
              "      const buttonEl =\n",
              "        document.querySelector('#df-11e4e13a-01bc-44d2-9d4a-c06bec6129b1 button.colab-df-convert');\n",
              "      buttonEl.style.display =\n",
              "        google.colab.kernel.accessAllowed ? 'block' : 'none';\n",
              "\n",
              "      async function convertToInteractive(key) {\n",
              "        const element = document.querySelector('#df-11e4e13a-01bc-44d2-9d4a-c06bec6129b1');\n",
              "        const dataTable =\n",
              "          await google.colab.kernel.invokeFunction('convertToInteractive',\n",
              "                                                    [key], {});\n",
              "        if (!dataTable) return;\n",
              "\n",
              "        const docLinkHtml = 'Like what you see? Visit the ' +\n",
              "          '<a target=\"_blank\" href=https://colab.research.google.com/notebooks/data_table.ipynb>data table notebook</a>'\n",
              "          + ' to learn more about interactive tables.';\n",
              "        element.innerHTML = '';\n",
              "        dataTable['output_type'] = 'display_data';\n",
              "        await google.colab.output.renderOutput(dataTable, element);\n",
              "        const docLink = document.createElement('div');\n",
              "        docLink.innerHTML = docLinkHtml;\n",
              "        element.appendChild(docLink);\n",
              "      }\n",
              "    </script>\n",
              "  </div>\n",
              "\n",
              "\n",
              "    </div>\n",
              "  </div>\n"
            ],
            "application/vnd.google.colaboratory.intrinsic+json": {
              "type": "dataframe",
              "variable_name": "baseGeral",
              "summary": "{\n  \"name\": \"baseGeral\",\n  \"rows\": 764,\n  \"fields\": [\n    {\n      \"column\": \"Intencao\",\n      \"properties\": {\n        \"dtype\": \"category\",\n        \"num_unique_values\": 23,\n        \"samples\": [\n          \"Regras do servico\",\n          \"Acesso a conta\",\n          \"Como depositar \"\n        ],\n        \"semantic_type\": \"\",\n        \"description\": \"\"\n      }\n    },\n    {\n      \"column\": \"Pergunta\",\n      \"properties\": {\n        \"dtype\": \"string\",\n        \"num_unique_values\": 622,\n        \"samples\": [\n          \"Boa noite Como fa\\u00e7o para fazer a convers\\u00e3o Presciso Que chega no Brasil 540 reais\",\n          \"Eu enviei dinheiro antes de ontem e at\\u00e9 agora n\\u00e3o caiu na conta do Brasil\",\n          \"Gostaria de saber quanto e necess\\u00e1rio eu mandar para o Brasil em In\\u00e9s para chegar l\\u00e1 15000 reais qual a cota\\u00e7\\u00e3o do d\\u00f3lar hoje aqui e a do Brasil por favor\"\n        ],\n        \"semantic_type\": \"\",\n        \"description\": \"\"\n      }\n    },\n    {\n      \"column\": \"Resposta\",\n      \"properties\": {\n        \"dtype\": \"string\",\n        \"num_unique_values\": 586,\n        \"samples\": [\n          \"Boa tarde [[nome cliente]], A corre\\u00e7\\u00e3o j\\u00e1 foi enviada ao nosso correspondente no Brasil e estamos aguardando o pagamento. Por favor, aguarde.\",\n          \"Taxa de envio para o Brasil: Remessas at\\u00e9 \\u00a530.000 taxa \\u00a5880 De \\u00a530.001~\\u00a5300.000 taxa \\u00a51.480 De \\u00a5300.001~\\u00a5800.000 taxa \\u00a51.680\",\n          \"Que voc\\u00ea n\\u00e3o digitou seu c\\u00f3digo de dep\\u00f3sito para o saldo ir diretamente para o seu aplicativo Brastel. Obrigado pelo envio do comprovante, vamos colocar o saldo no seu aplicativo. Para o pr\\u00f3ximo dep\\u00f3sito, voc\\u00ea pode seguir as instru\\u00e7\\u00f5es de dep\\u00f3sito do aplicativo da Brastel. 1. Clicar nas 3 linhas no canto esquerdo do App da Brastel 2. Instru\\u00e7\\u00f5es de dep\\u00f3sito 3. Transfer\\u00eancia banc\\u00e1ria (conta no correio). 4. Selecionar o ATM 5. Seguir o passo a passo, exatamente como est\\u00e1 no App. **digite corretamente seu c\\u00f3digo de deposito (s\\u00e3o os 8 n\\u00fameros que est\\u00e3o no passo n\\u00b0 14 e 15).\"\n        ],\n        \"semantic_type\": \"\",\n        \"description\": \"\"\n      }\n    }\n  ]\n}"
            }
          },
          "metadata": {},
          "execution_count": 503
        }
      ],
      "source": [
        "baseGeral.head(1)"
      ]
    },
    {
      "cell_type": "code",
      "source": [
        "import random\n",
        "\n",
        "random_row = random.randint(0, len(baseGeral) - 1)\n",
        "pd.set_option('display.max_colwidth', None)\n",
        "print(baseGeral.iloc[[random_row]])"
      ],
      "metadata": {
        "colab": {
          "base_uri": "https://localhost:8080/"
        },
        "id": "vFjCHHVlKw_8",
        "outputId": "74147ad5-7ef8-4408-86d5-4cc39e8deeeb"
      },
      "execution_count": 504,
      "outputs": [
        {
          "output_type": "stream",
          "name": "stdout",
          "text": [
            "                    Intencao  \\\n",
            "59  Cadastro de beneficiario   \n",
            "\n",
            "                                                                           Pergunta  \\\n",
            "59  Boa trde como faco para mudar da conta corrente para a poupanca do beneficiario   \n",
            "\n",
            "                                                                                                                                                                                                                                                                                                                                                                             Resposta  \n",
            "59  Boa tarde. No seu aplicativo Barstel Remit, click em Menu >> Beneficiarios >> Escolha o beneficiario (click) >> EDITAR >>Faca as correcoes/atualizacoes e click em Proximo (se não aparecer esse botao, click levente em qualquer lugar da sua tela e o botao ira aparecer) >> Va clicando no proximo ate apararecer SALVAR Qualquer outra dúvida estamos à disposição. Obrigado.  \n"
          ]
        }
      ]
    },
    {
      "cell_type": "code",
      "execution_count": 505,
      "metadata": {
        "colab": {
          "base_uri": "https://localhost:8080/"
        },
        "id": "o7Du-_QHE6VC",
        "outputId": "c8b4c82b-53d9-44d7-852c-cf1f43f1c117"
      },
      "outputs": [
        {
          "output_type": "stream",
          "name": "stdout",
          "text": [
            "<class 'pandas.core.frame.DataFrame'>\n",
            "Index: 759 entries, 0 to 786\n",
            "Data columns (total 3 columns):\n",
            " #   Column    Non-Null Count  Dtype \n",
            "---  ------    --------------  ----- \n",
            " 0   Intencao  759 non-null    object\n",
            " 1   Pergunta  759 non-null    object\n",
            " 2   Resposta  759 non-null    object\n",
            "dtypes: object(3)\n",
            "memory usage: 23.7+ KB\n"
          ]
        }
      ],
      "source": [
        "# Apagar colunas não utilizadas e eliminar linhas com valores nulos\n",
        "baseGeral = baseGeral.drop_duplicates(keep='first')\n",
        "baseGeral.info()"
      ]
    },
    {
      "cell_type": "code",
      "source": [
        "# União de labels com propósitos similares, isto ajuda a categorizar melhor as intenções.\n",
        "baseGeral.loc[baseGeral['Intencao'].str.contains('Como depositar', case=False, na=False), 'Intencao'] = baseGeral.loc[baseGeral['Intencao'].str.contains('Como depositar', case=False, na=False), 'Intencao'].replace('Como depositar', 'Problemas/Duvidas sobre deposito', regex=True)\n",
        "baseGeral.loc[baseGeral['Intencao'].str.contains('Como fazer remessa', case=False, na=False), 'Intencao'] = baseGeral.loc[baseGeral['Intencao'].str.contains('Como fazer remessa', case=False, na=False), 'Intencao'].replace('Como fazer remessa', 'Problemas/Duvidas sobre remessas', regex=True)\n",
        "baseGeral.loc[baseGeral['Intencao'].str.contains('Problemas de remessa', case=False, na=False), 'Intencao'] = baseGeral.loc[baseGeral['Intencao'].str.contains('Problemas de remessa', case=False, na=False), 'Intencao'].replace('Problemas de remessa', 'Problemas/Duvidas sobre remessas', regex=True)\n",
        "baseGeral.loc[baseGeral['Intencao'].str.contains('Problemas/Duvidas sobre deposito ', case=False, na=False), 'Intencao'] = baseGeral.loc[baseGeral['Intencao'].str.contains('Problemas/Duvidas sobre deposito ', case=False, na=False), 'Intencao'].replace('Problemas/Duvidas sobre deposito ', 'Problemas/Duvidas sobre deposito', regex=True)\n",
        "baseGeral.loc[baseGeral['Intencao'].str.contains('Atualizacao de dados cadastrais', case=False, na=False), 'Intencao'] = baseGeral.loc[baseGeral['Intencao'].str.contains('Atualizacao de dados cadastrais', case=False, na=False), 'Intencao'].replace('Atualizacao de dados cadastrais', 'Problemas/Duvidas de atualizacao de dados cadastrais', regex=True)\n",
        "baseGeral.loc[baseGeral['Intencao'].str.contains('Registro/Atualizacao de Documento', case=False, na=False), 'Intencao'] = baseGeral.loc[baseGeral['Intencao'].str.contains('Registro/Atualizacao de Documento', case=False, na=False), 'Intencao'].replace('Registro/Atualizacao de Documento', 'Problemas/Duvidas de atualizacao de dados cadastrais', regex=True)\n",
        "baseGeral.loc[baseGeral['Intencao'].str.contains('Tempo para depositos refletirem no saldo', case=False, na=False), 'Intencao'] = baseGeral.loc[baseGeral['Intencao'].str.contains('Tempo para depositos refletirem no saldo', case=False, na=False), 'Intencao'].replace('Tempo para depositos refletirem no saldo', 'Tempo de remessa', regex=True)\n",
        "baseGeral.loc[baseGeral['Intencao'].str.contains('Envio via Deposit Code', case=False, na=False), 'Intencao'] = baseGeral.loc[baseGeral['Intencao'].str.contains('Envio via Deposit Code', case=False, na=False), 'Intencao'].replace('Envio via Deposit Code', 'Problemas/Duvidas sobre deposito', regex=True)"
      ],
      "metadata": {
        "id": "0ZH_NkBEjdmO"
      },
      "execution_count": 506,
      "outputs": []
    },
    {
      "cell_type": "code",
      "source": [
        "# Drop rows where the number of intentions in all dataset is less than 10\n",
        "intentions_counts = baseGeral['Intencao'].value_counts()\n",
        "intentions_to_drop = intentions_counts[intentions_counts < 10].index\n",
        "baseGeral = baseGeral[~baseGeral['Intencao'].isin(intentions_to_drop)]"
      ],
      "metadata": {
        "id": "qbNSlOdXfzIO"
      },
      "execution_count": 507,
      "outputs": []
    },
    {
      "cell_type": "code",
      "source": [
        "# Remove all rows where the value in Pergunta and Resposta are duplicated with other rows, keep at least one of them\n",
        "baseGeral = baseGeral.drop_duplicates(subset=['Pergunta', 'Resposta'], keep='first')"
      ],
      "metadata": {
        "id": "fJZ-sfeBjzot"
      },
      "execution_count": 508,
      "outputs": []
    },
    {
      "cell_type": "code",
      "source": [
        "baseGeral['Intencao'].value_counts()"
      ],
      "metadata": {
        "colab": {
          "base_uri": "https://localhost:8080/",
          "height": 574
        },
        "id": "NRmhK_EYiHQQ",
        "outputId": "e7e05eca-8cfd-40b3-cb4e-ec839cfd8e78"
      },
      "execution_count": 509,
      "outputs": [
        {
          "output_type": "execute_result",
          "data": {
            "text/plain": [
              "Intencao\n",
              "Confirmacao de cambio/taxas                             118\n",
              "Pedido de envio via metodo \"ByPhone\"                     98\n",
              "Problemas/Duvidas de atualizacao de dados cadastrais     79\n",
              "Problemas/Duvidas sobre remessas                         66\n",
              "Como se inscrever                                        56\n",
              "Problemas/Duvidas sobre deposito                         45\n",
              "Tempo de remessa                                         40\n",
              "Solicitacao de cartao de remessas                        35\n",
              "Termos e condicoes do servico                            32\n",
              "Cadastro de beneficiario                                 30\n",
              "Acesso a conta                                           26\n",
              "Tempo de entrega do cartao                               16\n",
              "Cancelamento                                             13\n",
              "Reembolso                                                12\n",
              "Name: count, dtype: int64"
            ],
            "text/html": [
              "<div>\n",
              "<style scoped>\n",
              "    .dataframe tbody tr th:only-of-type {\n",
              "        vertical-align: middle;\n",
              "    }\n",
              "\n",
              "    .dataframe tbody tr th {\n",
              "        vertical-align: top;\n",
              "    }\n",
              "\n",
              "    .dataframe thead th {\n",
              "        text-align: right;\n",
              "    }\n",
              "</style>\n",
              "<table border=\"1\" class=\"dataframe\">\n",
              "  <thead>\n",
              "    <tr style=\"text-align: right;\">\n",
              "      <th></th>\n",
              "      <th>count</th>\n",
              "    </tr>\n",
              "    <tr>\n",
              "      <th>Intencao</th>\n",
              "      <th></th>\n",
              "    </tr>\n",
              "  </thead>\n",
              "  <tbody>\n",
              "    <tr>\n",
              "      <th>Confirmacao de cambio/taxas</th>\n",
              "      <td>118</td>\n",
              "    </tr>\n",
              "    <tr>\n",
              "      <th>Pedido de envio via metodo \"ByPhone\"</th>\n",
              "      <td>98</td>\n",
              "    </tr>\n",
              "    <tr>\n",
              "      <th>Problemas/Duvidas de atualizacao de dados cadastrais</th>\n",
              "      <td>79</td>\n",
              "    </tr>\n",
              "    <tr>\n",
              "      <th>Problemas/Duvidas sobre remessas</th>\n",
              "      <td>66</td>\n",
              "    </tr>\n",
              "    <tr>\n",
              "      <th>Como se inscrever</th>\n",
              "      <td>56</td>\n",
              "    </tr>\n",
              "    <tr>\n",
              "      <th>Problemas/Duvidas sobre deposito</th>\n",
              "      <td>45</td>\n",
              "    </tr>\n",
              "    <tr>\n",
              "      <th>Tempo de remessa</th>\n",
              "      <td>40</td>\n",
              "    </tr>\n",
              "    <tr>\n",
              "      <th>Solicitacao de cartao de remessas</th>\n",
              "      <td>35</td>\n",
              "    </tr>\n",
              "    <tr>\n",
              "      <th>Termos e condicoes do servico</th>\n",
              "      <td>32</td>\n",
              "    </tr>\n",
              "    <tr>\n",
              "      <th>Cadastro de beneficiario</th>\n",
              "      <td>30</td>\n",
              "    </tr>\n",
              "    <tr>\n",
              "      <th>Acesso a conta</th>\n",
              "      <td>26</td>\n",
              "    </tr>\n",
              "    <tr>\n",
              "      <th>Tempo de entrega do cartao</th>\n",
              "      <td>16</td>\n",
              "    </tr>\n",
              "    <tr>\n",
              "      <th>Cancelamento</th>\n",
              "      <td>13</td>\n",
              "    </tr>\n",
              "    <tr>\n",
              "      <th>Reembolso</th>\n",
              "      <td>12</td>\n",
              "    </tr>\n",
              "  </tbody>\n",
              "</table>\n",
              "</div><br><label><b>dtype:</b> int64</label>"
            ]
          },
          "metadata": {},
          "execution_count": 509
        }
      ]
    },
    {
      "cell_type": "markdown",
      "metadata": {
        "id": "yqM6XhGhSjuP"
      },
      "source": [
        "## Baixar base tratada"
      ]
    },
    {
      "cell_type": "code",
      "execution_count": 511,
      "metadata": {
        "id": "KibYLmhwSiZL"
      },
      "outputs": [],
      "source": [
        "# Salvar a base de dados tratada\n",
        "baseGeral.to_excel('NLG - baseTratadaSprint5.xlsx')"
      ]
    }
  ],
  "metadata": {
    "colab": {
      "provenance": []
    },
    "kernelspec": {
      "display_name": "Python 3",
      "name": "python3"
    },
    "language_info": {
      "name": "python"
    }
  },
  "nbformat": 4,
  "nbformat_minor": 0
}