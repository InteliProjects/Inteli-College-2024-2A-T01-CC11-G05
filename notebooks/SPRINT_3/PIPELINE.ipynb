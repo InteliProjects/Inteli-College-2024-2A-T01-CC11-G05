{
  "cells": [
    {
      "cell_type": "markdown",
      "metadata": {
        "id": "kMj5FJC8DQSP"
      },
      "source": [
        "# 1. Setup\n",
        "\n",
        "Seção para realizar a prepração do ambiente de desenvolvimento, realizando a conexão com o Google Drive e importando as bibliotecas necessárias e importação das bases fornecidas, transformando todas em uma só.\n"
      ]
    },
    {
      "cell_type": "code",
      "execution_count": 7,
      "metadata": {
        "colab": {
          "base_uri": "https://localhost:8080/"
        },
        "id": "9PDc9-AuDLaN",
        "outputId": "9abadddd-8ebd-4b93-ea42-ae6c9b758617"
      },
      "outputs": [
        {
          "name": "stdout",
          "output_type": "stream",
          "text": [
            "Drive already mounted at /content/drive; to attempt to forcibly remount, call drive.mount(\"/content/drive\", force_remount=True).\n"
          ]
        }
      ],
      "source": [
        "# Montagem do drive\n",
        "from google.colab import drive\n",
        "drive.mount('/content/drive')"
      ]
    },
    {
      "cell_type": "code",
      "execution_count": 8,
      "metadata": {
        "colab": {
          "base_uri": "https://localhost:8080/"
        },
        "id": "I7Cmw7T-Ms6g",
        "outputId": "74df85f4-e8e3-469b-be04-7e883e06ea87"
      },
      "outputs": [
        {
          "name": "stdout",
          "output_type": "stream",
          "text": [
            "Collecting pt-core-news-sm==3.7.0\n",
            "  Using cached https://github.com/explosion/spacy-models/releases/download/pt_core_news_sm-3.7.0/pt_core_news_sm-3.7.0-py3-none-any.whl (13.0 MB)\n",
            "Requirement already satisfied: spacy<3.8.0,>=3.7.0 in /usr/local/lib/python3.10/dist-packages (from pt-core-news-sm==3.7.0) (3.7.6)\n",
            "Requirement already satisfied: spacy-legacy<3.1.0,>=3.0.11 in /usr/local/lib/python3.10/dist-packages (from spacy<3.8.0,>=3.7.0->pt-core-news-sm==3.7.0) (3.0.12)\n",
            "Requirement already satisfied: spacy-loggers<2.0.0,>=1.0.0 in /usr/local/lib/python3.10/dist-packages (from spacy<3.8.0,>=3.7.0->pt-core-news-sm==3.7.0) (1.0.5)\n",
            "Requirement already satisfied: murmurhash<1.1.0,>=0.28.0 in /usr/local/lib/python3.10/dist-packages (from spacy<3.8.0,>=3.7.0->pt-core-news-sm==3.7.0) (1.0.10)\n",
            "Requirement already satisfied: cymem<2.1.0,>=2.0.2 in /usr/local/lib/python3.10/dist-packages (from spacy<3.8.0,>=3.7.0->pt-core-news-sm==3.7.0) (2.0.8)\n",
            "Requirement already satisfied: preshed<3.1.0,>=3.0.2 in /usr/local/lib/python3.10/dist-packages (from spacy<3.8.0,>=3.7.0->pt-core-news-sm==3.7.0) (3.0.9)\n",
            "Requirement already satisfied: thinc<8.3.0,>=8.2.2 in /usr/local/lib/python3.10/dist-packages (from spacy<3.8.0,>=3.7.0->pt-core-news-sm==3.7.0) (8.2.5)\n",
            "Requirement already satisfied: wasabi<1.2.0,>=0.9.1 in /usr/local/lib/python3.10/dist-packages (from spacy<3.8.0,>=3.7.0->pt-core-news-sm==3.7.0) (1.1.3)\n",
            "Requirement already satisfied: srsly<3.0.0,>=2.4.3 in /usr/local/lib/python3.10/dist-packages (from spacy<3.8.0,>=3.7.0->pt-core-news-sm==3.7.0) (2.4.8)\n",
            "Requirement already satisfied: catalogue<2.1.0,>=2.0.6 in /usr/local/lib/python3.10/dist-packages (from spacy<3.8.0,>=3.7.0->pt-core-news-sm==3.7.0) (2.0.10)\n",
            "Requirement already satisfied: weasel<0.5.0,>=0.1.0 in /usr/local/lib/python3.10/dist-packages (from spacy<3.8.0,>=3.7.0->pt-core-news-sm==3.7.0) (0.4.1)\n",
            "Requirement already satisfied: typer<1.0.0,>=0.3.0 in /usr/local/lib/python3.10/dist-packages (from spacy<3.8.0,>=3.7.0->pt-core-news-sm==3.7.0) (0.12.5)\n",
            "Requirement already satisfied: tqdm<5.0.0,>=4.38.0 in /usr/local/lib/python3.10/dist-packages (from spacy<3.8.0,>=3.7.0->pt-core-news-sm==3.7.0) (4.66.5)\n",
            "Requirement already satisfied: requests<3.0.0,>=2.13.0 in /usr/local/lib/python3.10/dist-packages (from spacy<3.8.0,>=3.7.0->pt-core-news-sm==3.7.0) (2.32.3)\n",
            "Requirement already satisfied: pydantic!=1.8,!=1.8.1,<3.0.0,>=1.7.4 in /usr/local/lib/python3.10/dist-packages (from spacy<3.8.0,>=3.7.0->pt-core-news-sm==3.7.0) (2.8.2)\n",
            "Requirement already satisfied: jinja2 in /usr/local/lib/python3.10/dist-packages (from spacy<3.8.0,>=3.7.0->pt-core-news-sm==3.7.0) (3.1.4)\n",
            "Requirement already satisfied: setuptools in /usr/local/lib/python3.10/dist-packages (from spacy<3.8.0,>=3.7.0->pt-core-news-sm==3.7.0) (71.0.4)\n",
            "Requirement already satisfied: packaging>=20.0 in /usr/local/lib/python3.10/dist-packages (from spacy<3.8.0,>=3.7.0->pt-core-news-sm==3.7.0) (24.1)\n",
            "Requirement already satisfied: langcodes<4.0.0,>=3.2.0 in /usr/local/lib/python3.10/dist-packages (from spacy<3.8.0,>=3.7.0->pt-core-news-sm==3.7.0) (3.4.0)\n",
            "Requirement already satisfied: numpy>=1.19.0 in /usr/local/lib/python3.10/dist-packages (from spacy<3.8.0,>=3.7.0->pt-core-news-sm==3.7.0) (1.26.4)\n",
            "Requirement already satisfied: language-data>=1.2 in /usr/local/lib/python3.10/dist-packages (from langcodes<4.0.0,>=3.2.0->spacy<3.8.0,>=3.7.0->pt-core-news-sm==3.7.0) (1.2.0)\n",
            "Requirement already satisfied: annotated-types>=0.4.0 in /usr/local/lib/python3.10/dist-packages (from pydantic!=1.8,!=1.8.1,<3.0.0,>=1.7.4->spacy<3.8.0,>=3.7.0->pt-core-news-sm==3.7.0) (0.7.0)\n",
            "Requirement already satisfied: pydantic-core==2.20.1 in /usr/local/lib/python3.10/dist-packages (from pydantic!=1.8,!=1.8.1,<3.0.0,>=1.7.4->spacy<3.8.0,>=3.7.0->pt-core-news-sm==3.7.0) (2.20.1)\n",
            "Requirement already satisfied: typing-extensions>=4.6.1 in /usr/local/lib/python3.10/dist-packages (from pydantic!=1.8,!=1.8.1,<3.0.0,>=1.7.4->spacy<3.8.0,>=3.7.0->pt-core-news-sm==3.7.0) (4.12.2)\n",
            "Requirement already satisfied: charset-normalizer<4,>=2 in /usr/local/lib/python3.10/dist-packages (from requests<3.0.0,>=2.13.0->spacy<3.8.0,>=3.7.0->pt-core-news-sm==3.7.0) (3.3.2)\n",
            "Requirement already satisfied: idna<4,>=2.5 in /usr/local/lib/python3.10/dist-packages (from requests<3.0.0,>=2.13.0->spacy<3.8.0,>=3.7.0->pt-core-news-sm==3.7.0) (3.8)\n",
            "Requirement already satisfied: urllib3<3,>=1.21.1 in /usr/local/lib/python3.10/dist-packages (from requests<3.0.0,>=2.13.0->spacy<3.8.0,>=3.7.0->pt-core-news-sm==3.7.0) (2.0.7)\n",
            "Requirement already satisfied: certifi>=2017.4.17 in /usr/local/lib/python3.10/dist-packages (from requests<3.0.0,>=2.13.0->spacy<3.8.0,>=3.7.0->pt-core-news-sm==3.7.0) (2024.8.30)\n",
            "Requirement already satisfied: blis<0.8.0,>=0.7.8 in /usr/local/lib/python3.10/dist-packages (from thinc<8.3.0,>=8.2.2->spacy<3.8.0,>=3.7.0->pt-core-news-sm==3.7.0) (0.7.11)\n",
            "Requirement already satisfied: confection<1.0.0,>=0.0.1 in /usr/local/lib/python3.10/dist-packages (from thinc<8.3.0,>=8.2.2->spacy<3.8.0,>=3.7.0->pt-core-news-sm==3.7.0) (0.1.5)\n",
            "Requirement already satisfied: click>=8.0.0 in /usr/local/lib/python3.10/dist-packages (from typer<1.0.0,>=0.3.0->spacy<3.8.0,>=3.7.0->pt-core-news-sm==3.7.0) (8.1.7)\n",
            "Requirement already satisfied: shellingham>=1.3.0 in /usr/local/lib/python3.10/dist-packages (from typer<1.0.0,>=0.3.0->spacy<3.8.0,>=3.7.0->pt-core-news-sm==3.7.0) (1.5.4)\n",
            "Requirement already satisfied: rich>=10.11.0 in /usr/local/lib/python3.10/dist-packages (from typer<1.0.0,>=0.3.0->spacy<3.8.0,>=3.7.0->pt-core-news-sm==3.7.0) (13.8.0)\n",
            "Requirement already satisfied: cloudpathlib<1.0.0,>=0.7.0 in /usr/local/lib/python3.10/dist-packages (from weasel<0.5.0,>=0.1.0->spacy<3.8.0,>=3.7.0->pt-core-news-sm==3.7.0) (0.19.0)\n",
            "Requirement already satisfied: smart-open<8.0.0,>=5.2.1 in /usr/local/lib/python3.10/dist-packages (from weasel<0.5.0,>=0.1.0->spacy<3.8.0,>=3.7.0->pt-core-news-sm==3.7.0) (7.0.4)\n",
            "Requirement already satisfied: MarkupSafe>=2.0 in /usr/local/lib/python3.10/dist-packages (from jinja2->spacy<3.8.0,>=3.7.0->pt-core-news-sm==3.7.0) (2.1.5)\n",
            "Requirement already satisfied: marisa-trie>=0.7.7 in /usr/local/lib/python3.10/dist-packages (from language-data>=1.2->langcodes<4.0.0,>=3.2.0->spacy<3.8.0,>=3.7.0->pt-core-news-sm==3.7.0) (1.2.0)\n",
            "Requirement already satisfied: markdown-it-py>=2.2.0 in /usr/local/lib/python3.10/dist-packages (from rich>=10.11.0->typer<1.0.0,>=0.3.0->spacy<3.8.0,>=3.7.0->pt-core-news-sm==3.7.0) (3.0.0)\n",
            "Requirement already satisfied: pygments<3.0.0,>=2.13.0 in /usr/local/lib/python3.10/dist-packages (from rich>=10.11.0->typer<1.0.0,>=0.3.0->spacy<3.8.0,>=3.7.0->pt-core-news-sm==3.7.0) (2.16.1)\n",
            "Requirement already satisfied: wrapt in /usr/local/lib/python3.10/dist-packages (from smart-open<8.0.0,>=5.2.1->weasel<0.5.0,>=0.1.0->spacy<3.8.0,>=3.7.0->pt-core-news-sm==3.7.0) (1.16.0)\n",
            "Requirement already satisfied: mdurl~=0.1 in /usr/local/lib/python3.10/dist-packages (from markdown-it-py>=2.2.0->rich>=10.11.0->typer<1.0.0,>=0.3.0->spacy<3.8.0,>=3.7.0->pt-core-news-sm==3.7.0) (0.1.2)\n",
            "\u001b[38;5;2m✔ Download and installation successful\u001b[0m\n",
            "You can now load the package via spacy.load('pt_core_news_sm')\n",
            "\u001b[38;5;3m⚠ Restart to reload dependencies\u001b[0m\n",
            "If you are in a Jupyter or Colab notebook, you may need to restart Python in\n",
            "order to load all the package's dependencies. You can do this by selecting the\n",
            "'Restart kernel' or 'Restart runtime' option.\n"
          ]
        }
      ],
      "source": [
        "# Download Spacy em português\n",
        "!python -m spacy download pt_core_news_sm"
      ]
    },
    {
      "cell_type": "code",
      "execution_count": 9,
      "metadata": {
        "id": "Zrtn0dKsDvP9"
      },
      "outputs": [],
      "source": [
        "# Importar bibliotecas necessárias\n",
        "import pandas as pd\n",
        "import spacy\n",
        "import re"
      ]
    },
    {
      "cell_type": "code",
      "execution_count": 10,
      "metadata": {
        "id": "Djap5q0tMlHt"
      },
      "outputs": [],
      "source": [
        "# Carregamento das informações do SPACY\n",
        "nlp = spacy.load(\"pt_core_news_sm\")"
      ]
    },
    {
      "cell_type": "markdown",
      "metadata": {
        "id": "XYl7wW1HOdYC"
      },
      "source": [
        "## Carregamento dos dados\n",
        "\n",
        "Para realizar o pré processamento foi utilizada 3 bases de dados que possuem semelhanças:\n",
        "\n",
        "Base 1: Base original apenas com conversas e intenções\n",
        "\n",
        "Base 2: Base secundária com conversas e mais de uma interação\n",
        "\n",
        "Base 3: Base terciária com um dicionário para as palavras em japonês"
      ]
    },
    {
      "cell_type": "code",
      "execution_count": 11,
      "metadata": {
        "id": "R1p64YHcD2ae"
      },
      "outputs": [],
      "source": [
        "# Alterar caminhos para onde estão armazenadas a bases\n",
        "PATH = '/content/base1_v1_20240904.csv'\n",
        "PATH2 = '/content/base2_v1_20240904.xlsx'\n",
        "PATH3 = '/content/base3_v1_20240904.xlsx'\n",
        "\n",
        "base = pd.read_csv(PATH, sep=';')\n",
        "base2 = pd.read_excel(PATH2, sheet_name='Q&A')\n",
        "base3 = pd.read_excel(PATH3)"
      ]
    },
    {
      "cell_type": "markdown",
      "metadata": {
        "id": "bddl0_W2QQuq"
      },
      "source": [
        "### Tratamento básico das bases\n",
        "\n",
        "Retirar linhas duplicadas, filtrar colunas principais e exploração da base."
      ]
    },
    {
      "cell_type": "code",
      "execution_count": 12,
      "metadata": {
        "id": "4tHvPHvFElx9"
      },
      "outputs": [],
      "source": [
        "# Filtrando apenas colunas importantes retirando os Index\n",
        "base = base[['Intencao','Pergunta','Resposta\\n']]\n",
        "base2 = base2[['Intencao', 'Pergunta','Resposta\\n']]\n",
        "base3 = base3[['Intencao', 'Pergunta','Resposta\\n']]"
      ]
    },
    {
      "cell_type": "code",
      "execution_count": 13,
      "metadata": {
        "colab": {
          "base_uri": "https://localhost:8080/"
        },
        "id": "qSF0aWPJHh0w",
        "outputId": "b9201d2f-1f17-4f11-ec29-c1bc00ce0dd3"
      },
      "outputs": [
        {
          "name": "stdout",
          "output_type": "stream",
          "text": [
            "Tamanho database 1:  981\n",
            "Tamanho database 2:  999\n",
            "Tamanho database 3:  728\n"
          ]
        }
      ],
      "source": [
        "print('Tamanho database 1: ', len(base))\n",
        "print('Tamanho database 2: ', len(base2))\n",
        "print('Tamanho database 3: ', len(base3))"
      ]
    },
    {
      "cell_type": "code",
      "execution_count": 14,
      "metadata": {
        "id": "-sbFILfFH_rG"
      },
      "outputs": [],
      "source": [
        "# Junção das bases de dados\n",
        "baseGeral = pd.merge(base, base2, how='outer')\n",
        "baseGeral = pd.merge(baseGeral, base3, how='outer')"
      ]
    },
    {
      "cell_type": "code",
      "execution_count": 15,
      "metadata": {
        "id": "hGLcMz4eIZYj"
      },
      "outputs": [],
      "source": [
        "# Renomear colunas\n",
        "baseGeral.rename(columns={'Resposta\\n':'Resposta'}, inplace=True)"
      ]
    },
    {
      "cell_type": "code",
      "execution_count": 16,
      "metadata": {
        "id": "Tjz3zErUILBn"
      },
      "outputs": [],
      "source": [
        "# Retirar linhas que estão duplicadas\n",
        "baseGeral.drop_duplicates(inplace=True)"
      ]
    },
    {
      "cell_type": "code",
      "execution_count": 17,
      "metadata": {
        "colab": {
          "base_uri": "https://localhost:8080/",
          "height": 206
        },
        "id": "FrqG7DeQIWa8",
        "outputId": "7a849d5a-ebda-4870-8673-0880efa2b2b0"
      },
      "outputs": [
        {
          "data": {
            "application/vnd.google.colaboratory.intrinsic+json": {
              "summary": "{\n  \"name\": \"baseGeral\",\n  \"rows\": 799,\n  \"fields\": [\n    {\n      \"column\": \"Intencao\",\n      \"properties\": {\n        \"dtype\": \"category\",\n        \"num_unique_values\": 23,\n        \"samples\": [\n          \"Regras do servico\",\n          \"Cadastro de beneficiario\",\n          \"Como depositar \"\n        ],\n        \"semantic_type\": \"\",\n        \"description\": \"\"\n      }\n    },\n    {\n      \"column\": \"Pergunta\",\n      \"properties\": {\n        \"dtype\": \"string\",\n        \"num_unique_values\": 639,\n        \"samples\": [\n          \"Ol\\u00e1! Tudo bem gostaria fazer cadastro\",\n          \"Ok, entendi, vou providenciar um familiar pra fazer a remessa !\\nComo que pe\\u00e7o o reembolso dos valores ?\",\n          \"Boa tarde estou fazendo o cadastro do aplicativo pra enviar dinheiro para o Brasil\\nT\\u00f4 na fase onde coloca o celular pra ler a indentidade e n\\u00e3o estou conseguindo\\nPode me ajudar a me explicar como se faz\"\n        ],\n        \"semantic_type\": \"\",\n        \"description\": \"\"\n      }\n    },\n    {\n      \"column\": \"Resposta\",\n      \"properties\": {\n        \"dtype\": \"string\",\n        \"num_unique_values\": 608,\n        \"samples\": [\n          \"Bom dia,\\n\\nTemos v\\u00eddeos que ajudam os clientes a fazerem as inscri\\u00e7\\u00f5es.\\n\\nCom aparelhos de celulares com o novo sistema NFC e para aparelhos que n\\u00e3o possuem o sistema NFC.\\n- Com o sistema NFC: https://www.youtube.com/watch?v=U_jAVo2qYt4\\n- Sem o sistema NFC: https://www.youtube.com/watch?v=tc8yeWvQdlw&t=143s\\nQualquer d\\u00favida estamos \\u00e0 disposi\\u00e7\\u00e3o.\\nObrigado.\",\n          \"Bom dia,\\n\\nVerificamos que voc\\u00ea j\\u00e1 solicitou o novo cart\\u00e3o de deposito (laranja). Voc\\u00ea receber\\u00e1 o cart\\u00e3o num prazo de 3 a 4 dias uteis.\\n\\nQualquer d\\u00favida estamos \\u00e0 disposi\\u00e7\\u00e3o.\\nObrigado.\",\n          \"Sobre o seu pedido, levara em torno de 4~5 dias uteis para receber os cartoes na sua residencia.\"\n        ],\n        \"semantic_type\": \"\",\n        \"description\": \"\"\n      }\n    }\n  ]\n}",
              "type": "dataframe",
              "variable_name": "baseGeral"
            },
            "text/html": [
              "\n",
              "  <div id=\"df-e1321d11-c4b8-4962-a160-a0311e43c146\" class=\"colab-df-container\">\n",
              "    <div>\n",
              "<style scoped>\n",
              "    .dataframe tbody tr th:only-of-type {\n",
              "        vertical-align: middle;\n",
              "    }\n",
              "\n",
              "    .dataframe tbody tr th {\n",
              "        vertical-align: top;\n",
              "    }\n",
              "\n",
              "    .dataframe thead th {\n",
              "        text-align: right;\n",
              "    }\n",
              "</style>\n",
              "<table border=\"1\" class=\"dataframe\">\n",
              "  <thead>\n",
              "    <tr style=\"text-align: right;\">\n",
              "      <th></th>\n",
              "      <th>Intencao</th>\n",
              "      <th>Pergunta</th>\n",
              "      <th>Resposta</th>\n",
              "    </tr>\n",
              "  </thead>\n",
              "  <tbody>\n",
              "    <tr>\n",
              "      <th>0</th>\n",
              "      <td>Como depositar</td>\n",
              "      <td>Boa dia.tudo bem?eu gostaria de saber sobre aq...</td>\n",
              "      <td>Bom dia! Sim, o sr pode utilizar o cartão de d...</td>\n",
              "    </tr>\n",
              "    <tr>\n",
              "      <th>1</th>\n",
              "      <td>Como fazer remessa</td>\n",
              "      <td>Como enviar dinheiro do Japão?</td>\n",
              "      <td>Para se inscrever no serviço de remessa, por f...</td>\n",
              "    </tr>\n",
              "    <tr>\n",
              "      <th>2</th>\n",
              "      <td>Tempo de remessa</td>\n",
              "      <td>Quanto tempo levará para o beneficiário recebe...</td>\n",
              "      <td>Via de regra, as remessas serão pagas via PIX ...</td>\n",
              "    </tr>\n",
              "    <tr>\n",
              "      <th>152</th>\n",
              "      <td>Pedido de envio via metodo \"ByPhone\"</td>\n",
              "      <td>Boa tarde\\nAcabei de fazer a transferência de ...</td>\n",
              "      <td>iremos processar a sua solicitacao.\\nMuito obr...</td>\n",
              "    </tr>\n",
              "    <tr>\n",
              "      <th>153</th>\n",
              "      <td>Pedido de envio via metodo \"ByPhone\"</td>\n",
              "      <td>Poderia fazer a remessa de 22yenes para o BBB ...</td>\n",
              "      <td>iremos processar a sua solicitacao.\\nMuito obr...</td>\n",
              "    </tr>\n",
              "  </tbody>\n",
              "</table>\n",
              "</div>\n",
              "    <div class=\"colab-df-buttons\">\n",
              "\n",
              "  <div class=\"colab-df-container\">\n",
              "    <button class=\"colab-df-convert\" onclick=\"convertToInteractive('df-e1321d11-c4b8-4962-a160-a0311e43c146')\"\n",
              "            title=\"Convert this dataframe to an interactive table.\"\n",
              "            style=\"display:none;\">\n",
              "\n",
              "  <svg xmlns=\"http://www.w3.org/2000/svg\" height=\"24px\" viewBox=\"0 -960 960 960\">\n",
              "    <path d=\"M120-120v-720h720v720H120Zm60-500h600v-160H180v160Zm220 220h160v-160H400v160Zm0 220h160v-160H400v160ZM180-400h160v-160H180v160Zm440 0h160v-160H620v160ZM180-180h160v-160H180v160Zm440 0h160v-160H620v160Z\"/>\n",
              "  </svg>\n",
              "    </button>\n",
              "\n",
              "  <style>\n",
              "    .colab-df-container {\n",
              "      display:flex;\n",
              "      gap: 12px;\n",
              "    }\n",
              "\n",
              "    .colab-df-convert {\n",
              "      background-color: #E8F0FE;\n",
              "      border: none;\n",
              "      border-radius: 50%;\n",
              "      cursor: pointer;\n",
              "      display: none;\n",
              "      fill: #1967D2;\n",
              "      height: 32px;\n",
              "      padding: 0 0 0 0;\n",
              "      width: 32px;\n",
              "    }\n",
              "\n",
              "    .colab-df-convert:hover {\n",
              "      background-color: #E2EBFA;\n",
              "      box-shadow: 0px 1px 2px rgba(60, 64, 67, 0.3), 0px 1px 3px 1px rgba(60, 64, 67, 0.15);\n",
              "      fill: #174EA6;\n",
              "    }\n",
              "\n",
              "    .colab-df-buttons div {\n",
              "      margin-bottom: 4px;\n",
              "    }\n",
              "\n",
              "    [theme=dark] .colab-df-convert {\n",
              "      background-color: #3B4455;\n",
              "      fill: #D2E3FC;\n",
              "    }\n",
              "\n",
              "    [theme=dark] .colab-df-convert:hover {\n",
              "      background-color: #434B5C;\n",
              "      box-shadow: 0px 1px 3px 1px rgba(0, 0, 0, 0.15);\n",
              "      filter: drop-shadow(0px 1px 2px rgba(0, 0, 0, 0.3));\n",
              "      fill: #FFFFFF;\n",
              "    }\n",
              "  </style>\n",
              "\n",
              "    <script>\n",
              "      const buttonEl =\n",
              "        document.querySelector('#df-e1321d11-c4b8-4962-a160-a0311e43c146 button.colab-df-convert');\n",
              "      buttonEl.style.display =\n",
              "        google.colab.kernel.accessAllowed ? 'block' : 'none';\n",
              "\n",
              "      async function convertToInteractive(key) {\n",
              "        const element = document.querySelector('#df-e1321d11-c4b8-4962-a160-a0311e43c146');\n",
              "        const dataTable =\n",
              "          await google.colab.kernel.invokeFunction('convertToInteractive',\n",
              "                                                    [key], {});\n",
              "        if (!dataTable) return;\n",
              "\n",
              "        const docLinkHtml = 'Like what you see? Visit the ' +\n",
              "          '<a target=\"_blank\" href=https://colab.research.google.com/notebooks/data_table.ipynb>data table notebook</a>'\n",
              "          + ' to learn more about interactive tables.';\n",
              "        element.innerHTML = '';\n",
              "        dataTable['output_type'] = 'display_data';\n",
              "        await google.colab.output.renderOutput(dataTable, element);\n",
              "        const docLink = document.createElement('div');\n",
              "        docLink.innerHTML = docLinkHtml;\n",
              "        element.appendChild(docLink);\n",
              "      }\n",
              "    </script>\n",
              "  </div>\n",
              "\n",
              "\n",
              "<div id=\"df-8187315e-8eba-485d-8a8f-d33d09457490\">\n",
              "  <button class=\"colab-df-quickchart\" onclick=\"quickchart('df-8187315e-8eba-485d-8a8f-d33d09457490')\"\n",
              "            title=\"Suggest charts\"\n",
              "            style=\"display:none;\">\n",
              "\n",
              "<svg xmlns=\"http://www.w3.org/2000/svg\" height=\"24px\"viewBox=\"0 0 24 24\"\n",
              "     width=\"24px\">\n",
              "    <g>\n",
              "        <path d=\"M19 3H5c-1.1 0-2 .9-2 2v14c0 1.1.9 2 2 2h14c1.1 0 2-.9 2-2V5c0-1.1-.9-2-2-2zM9 17H7v-7h2v7zm4 0h-2V7h2v10zm4 0h-2v-4h2v4z\"/>\n",
              "    </g>\n",
              "</svg>\n",
              "  </button>\n",
              "\n",
              "<style>\n",
              "  .colab-df-quickchart {\n",
              "      --bg-color: #E8F0FE;\n",
              "      --fill-color: #1967D2;\n",
              "      --hover-bg-color: #E2EBFA;\n",
              "      --hover-fill-color: #174EA6;\n",
              "      --disabled-fill-color: #AAA;\n",
              "      --disabled-bg-color: #DDD;\n",
              "  }\n",
              "\n",
              "  [theme=dark] .colab-df-quickchart {\n",
              "      --bg-color: #3B4455;\n",
              "      --fill-color: #D2E3FC;\n",
              "      --hover-bg-color: #434B5C;\n",
              "      --hover-fill-color: #FFFFFF;\n",
              "      --disabled-bg-color: #3B4455;\n",
              "      --disabled-fill-color: #666;\n",
              "  }\n",
              "\n",
              "  .colab-df-quickchart {\n",
              "    background-color: var(--bg-color);\n",
              "    border: none;\n",
              "    border-radius: 50%;\n",
              "    cursor: pointer;\n",
              "    display: none;\n",
              "    fill: var(--fill-color);\n",
              "    height: 32px;\n",
              "    padding: 0;\n",
              "    width: 32px;\n",
              "  }\n",
              "\n",
              "  .colab-df-quickchart:hover {\n",
              "    background-color: var(--hover-bg-color);\n",
              "    box-shadow: 0 1px 2px rgba(60, 64, 67, 0.3), 0 1px 3px 1px rgba(60, 64, 67, 0.15);\n",
              "    fill: var(--button-hover-fill-color);\n",
              "  }\n",
              "\n",
              "  .colab-df-quickchart-complete:disabled,\n",
              "  .colab-df-quickchart-complete:disabled:hover {\n",
              "    background-color: var(--disabled-bg-color);\n",
              "    fill: var(--disabled-fill-color);\n",
              "    box-shadow: none;\n",
              "  }\n",
              "\n",
              "  .colab-df-spinner {\n",
              "    border: 2px solid var(--fill-color);\n",
              "    border-color: transparent;\n",
              "    border-bottom-color: var(--fill-color);\n",
              "    animation:\n",
              "      spin 1s steps(1) infinite;\n",
              "  }\n",
              "\n",
              "  @keyframes spin {\n",
              "    0% {\n",
              "      border-color: transparent;\n",
              "      border-bottom-color: var(--fill-color);\n",
              "      border-left-color: var(--fill-color);\n",
              "    }\n",
              "    20% {\n",
              "      border-color: transparent;\n",
              "      border-left-color: var(--fill-color);\n",
              "      border-top-color: var(--fill-color);\n",
              "    }\n",
              "    30% {\n",
              "      border-color: transparent;\n",
              "      border-left-color: var(--fill-color);\n",
              "      border-top-color: var(--fill-color);\n",
              "      border-right-color: var(--fill-color);\n",
              "    }\n",
              "    40% {\n",
              "      border-color: transparent;\n",
              "      border-right-color: var(--fill-color);\n",
              "      border-top-color: var(--fill-color);\n",
              "    }\n",
              "    60% {\n",
              "      border-color: transparent;\n",
              "      border-right-color: var(--fill-color);\n",
              "    }\n",
              "    80% {\n",
              "      border-color: transparent;\n",
              "      border-right-color: var(--fill-color);\n",
              "      border-bottom-color: var(--fill-color);\n",
              "    }\n",
              "    90% {\n",
              "      border-color: transparent;\n",
              "      border-bottom-color: var(--fill-color);\n",
              "    }\n",
              "  }\n",
              "</style>\n",
              "\n",
              "  <script>\n",
              "    async function quickchart(key) {\n",
              "      const quickchartButtonEl =\n",
              "        document.querySelector('#' + key + ' button');\n",
              "      quickchartButtonEl.disabled = true;  // To prevent multiple clicks.\n",
              "      quickchartButtonEl.classList.add('colab-df-spinner');\n",
              "      try {\n",
              "        const charts = await google.colab.kernel.invokeFunction(\n",
              "            'suggestCharts', [key], {});\n",
              "      } catch (error) {\n",
              "        console.error('Error during call to suggestCharts:', error);\n",
              "      }\n",
              "      quickchartButtonEl.classList.remove('colab-df-spinner');\n",
              "      quickchartButtonEl.classList.add('colab-df-quickchart-complete');\n",
              "    }\n",
              "    (() => {\n",
              "      let quickchartButtonEl =\n",
              "        document.querySelector('#df-8187315e-8eba-485d-8a8f-d33d09457490 button');\n",
              "      quickchartButtonEl.style.display =\n",
              "        google.colab.kernel.accessAllowed ? 'block' : 'none';\n",
              "    })();\n",
              "  </script>\n",
              "</div>\n",
              "\n",
              "    </div>\n",
              "  </div>\n"
            ],
            "text/plain": [
              "                                 Intencao  \\\n",
              "0                         Como depositar    \n",
              "1                      Como fazer remessa   \n",
              "2                        Tempo de remessa   \n",
              "152  Pedido de envio via metodo \"ByPhone\"   \n",
              "153  Pedido de envio via metodo \"ByPhone\"   \n",
              "\n",
              "                                              Pergunta  \\\n",
              "0    Boa dia.tudo bem?eu gostaria de saber sobre aq...   \n",
              "1                       Como enviar dinheiro do Japão?   \n",
              "2    Quanto tempo levará para o beneficiário recebe...   \n",
              "152  Boa tarde\\nAcabei de fazer a transferência de ...   \n",
              "153  Poderia fazer a remessa de 22yenes para o BBB ...   \n",
              "\n",
              "                                              Resposta  \n",
              "0    Bom dia! Sim, o sr pode utilizar o cartão de d...  \n",
              "1    Para se inscrever no serviço de remessa, por f...  \n",
              "2    Via de regra, as remessas serão pagas via PIX ...  \n",
              "152  iremos processar a sua solicitacao.\\nMuito obr...  \n",
              "153  iremos processar a sua solicitacao.\\nMuito obr...  "
            ]
          },
          "execution_count": 17,
          "metadata": {},
          "output_type": "execute_result"
        }
      ],
      "source": [
        "# Visualização\n",
        "baseGeral.head()"
      ]
    },
    {
      "cell_type": "code",
      "execution_count": 18,
      "metadata": {
        "colab": {
          "base_uri": "https://localhost:8080/"
        },
        "id": "Nkv55qD8I9Ci",
        "outputId": "a25cef6f-96da-4851-ce6b-9d7e16ca36c0"
      },
      "outputs": [
        {
          "data": {
            "text/plain": [
              "799"
            ]
          },
          "execution_count": 18,
          "metadata": {},
          "output_type": "execute_result"
        }
      ],
      "source": [
        "len(baseGeral)"
      ]
    },
    {
      "cell_type": "markdown",
      "metadata": {
        "id": "4RZNFEbqI7Jl"
      },
      "source": [
        "# 2. Pipeline\n",
        "\n",
        "**Etapa importante para lidar com os textos do dataframe futuramente.**\n",
        "\n",
        "**Nesta etapa, o processo de pré-processamento de dados foi separado nas seguintes etapas a seguir:**\n",
        "\n",
        "Limpeza dos dados do dataframe: remover os espaços em excesso, converter o texto em uma frase de uma linha, normalizar o texto para que fique todo com letras minúsculas, remover as pontuações, números, símbolos, caracteres especiais e emojis, links e endereços de e-mail;"
      ]
    },
    {
      "cell_type": "markdown",
      "metadata": {
        "id": "iyT_W4giL-Bg"
      },
      "source": [
        "## Normalização e remoção de dados que não serão utilizados"
      ]
    },
    {
      "cell_type": "code",
      "execution_count": 19,
      "metadata": {
        "id": "_PZxtC7OJQMC"
      },
      "outputs": [],
      "source": [
        "# Dar espaços após as pontuações\n",
        "baseGeral['Pergunta'] = baseGeral['Pergunta'].apply(lambda x: re.sub(r'([.,!?;:])', r'\\1 ', str(x)))\n",
        "baseGeral['Resposta'] = baseGeral['Resposta'].apply(lambda x: re.sub(r'([.,!?;:])', r'\\1 ', str(x)))\n",
        "\n",
        "# Substituir quebras de linha por espaços\n",
        "baseGeral['Pergunta'] = baseGeral['Pergunta'].apply(lambda x: re.sub(r'\\n', ' ', str(x)))\n",
        "baseGeral['Resposta'] = baseGeral['Resposta'].apply(lambda x: re.sub(r'\\n', ' ', str(x)))\n",
        "\n",
        "# Normalizar o dataframe para letras minúsculas\n",
        "baseGeral['Pergunta'] = baseGeral['Pergunta'].str.lower()\n",
        "baseGeral['Resposta'] = baseGeral['Resposta'].str.lower()\n",
        "\n",
        "# Remover pontuações do dataframe\n",
        "baseGeral['Pergunta'] = baseGeral['Pergunta'].apply(lambda x: re.sub(r'[^\\w\\s]', '', str(x)))\n",
        "baseGeral['Resposta'] = baseGeral['Resposta'].apply(lambda x: re.sub(r'[^\\w\\s]', '', str(x)))\n",
        "\n",
        "# Remover números do dataframe\n",
        "baseGeral['Pergunta'] = baseGeral['Pergunta'].apply(lambda x: re.sub(r'\\d+', '', str(x)))\n",
        "baseGeral['Resposta'] = baseGeral['Resposta'].apply(lambda x: re.sub(r'\\d+', '', str(x)))\n",
        "\n",
        "# Remover espaços extras do dataframe\n",
        "baseGeral['Pergunta'] = baseGeral['Pergunta'].apply(lambda x: re.sub(r'\\s+', ' ', str(x)))\n",
        "baseGeral['Resposta'] = baseGeral['Resposta'].apply(lambda x: re.sub(r'\\s+', ' ', str(x)))\n",
        "\n",
        "# Remover URLs\n",
        "baseGeral['Pergunta'] = baseGeral['Pergunta'].apply(lambda x: re.sub(r'http\\S+', '', str(x)))\n",
        "baseGeral['Resposta'] = baseGeral['Resposta'].apply(lambda x: re.sub(r'http\\S+', '', str(x)))\n",
        "\n",
        "# Remover emails\n",
        "baseGeral['Pergunta'] = baseGeral['Pergunta'].apply(lambda x: re.sub(r'\\S+@\\S+', '', str(x)))\n",
        "baseGeral['Resposta'] = baseGeral['Resposta'].apply(lambda x: re.sub(r'\\S+@\\S+', '', str(x)))\n",
        "\n",
        "# Remover emojis\n",
        "baseGeral['Pergunta'] = baseGeral['Pergunta'].apply(lambda x: re.sub(r'[^\\x00-\\x7F]+', '', str(x)))\n",
        "baseGeral['Resposta'] = baseGeral['Resposta'].apply(lambda x: re.sub(r'[^\\x00-\\x7F]+', '', str(x)))\n",
        "\n",
        "# Remover palavras que contém apenas um caractere como aaa, bbbb\n",
        "baseGeral['Pergunta'] = baseGeral['Pergunta'].apply(lambda x: re.sub(r'\\b(\\w)\\1+\\b', '', str(x)))\n",
        "baseGeral['Resposta'] = baseGeral['Resposta'].apply(lambda x: re.sub(r'\\b(\\w)\\1+\\b', '', str(x)))\n"
      ]
    },
    {
      "cell_type": "markdown",
      "metadata": {
        "id": "D5X3w_nSMLyT"
      },
      "source": [
        "## Remoção de stopwords\n",
        "\n",
        "Remove as \"palavras de parada\", que são os artigos, pronomes e palavras usadas com muita frequência e acabam tendo pouco significado no texto e, em alguns casos, se tornando irrelevantes;"
      ]
    },
    {
      "cell_type": "code",
      "execution_count": 20,
      "metadata": {
        "id": "SGLRiHrQMN17"
      },
      "outputs": [],
      "source": [
        "# Função para remover stopwords\n",
        "def remove_stopwords(texto):\n",
        "    doc = nlp(texto)\n",
        "    # Retornar palavras que não são stopwords\n",
        "    return \" \".join([token.text for token in doc if not token.is_stop])"
      ]
    },
    {
      "cell_type": "code",
      "execution_count": 21,
      "metadata": {
        "id": "YN_x0P79PPrQ"
      },
      "outputs": [],
      "source": [
        "# Aplicar a função em cada linha da coluna de texto\n",
        "baseGeral['Pergunta_StopWord'] = baseGeral['Pergunta'].apply(remove_stopwords)\n",
        "baseGeral['Resposta_StopWord'] = baseGeral['Resposta'].apply(remove_stopwords)"
      ]
    },
    {
      "cell_type": "markdown",
      "metadata": {
        "id": "j8kGZV2dP4aQ"
      },
      "source": [
        "## Dicionário das abreviações encontradas na base de dados\n",
        "\n",
        "Dicionário para conversão de abreviações para palavras por extenso: foi feita uma análise das principais abreviações que apareciam no dataframe e, com base nisso, criado um dicionário que é usado para substituir cada abreviação por sua palavra por extenso através de um loop que percorre as principais colunas que estamos usando;\n"
      ]
    },
    {
      "cell_type": "code",
      "execution_count": 22,
      "metadata": {
        "id": "1Xs-i7qvP9Vd"
      },
      "outputs": [],
      "source": [
        "# Criação de um dicionário para tratar abreviações do dataframe\n",
        "abreviacoes = {\n",
        "    'add': 'adicionar',\n",
        "    'app': 'aplicativo',\n",
        "    'pq': 'porque',\n",
        "    'vc': 'você',\n",
        "    'vcs': 'vocês',\n",
        "    'sr': 'senhor',\n",
        "    'sra': 'senhora',\n",
        "    'srto': 'senhorito',\n",
        "    'srta': 'senhorita',\n",
        "    'qdo': 'quando',\n",
        "    'qdo': 'quando',\n",
        "    'qt': 'quanto',\n",
        "    'qto': 'quanto',\n",
        "    'pra': 'para',\n",
        "    'q': 'que',\n",
        "    'p': 'para',\n",
        "    'pf': 'por favor',\n",
        "    'yenes': 'ienes',\n",
        "    'yens': 'ienes',\n",
        "    'iens': 'ienes',\n",
        "    'hj': 'hoje',\n",
        "    'obg': 'obrigado',\n",
        "    'td': 'tudo',\n",
        "    'bm': 'bom',\n",
        "}"
      ]
    },
    {
      "cell_type": "code",
      "execution_count": 23,
      "metadata": {
        "id": "QHtk0njrQCA9"
      },
      "outputs": [],
      "source": [
        "# Substituindo as abreviações das palavras para extenso em toda a base de dados de uma vez\n",
        "def substituir_abreviacoes(texto, abreviacoes):\n",
        "    for abreviacao, palavra in abreviacoes.items():\n",
        "        texto = texto.str.replace(r'\\b' + abreviacao + r'\\b', palavra, regex=True)\n",
        "    return texto\n",
        "\n",
        "# Aplicando a função para substituir abreviações nas colunas específicas\n",
        "baseGeral['Pergunta_Abrev'] = substituir_abreviacoes(baseGeral['Pergunta_StopWord'], abreviacoes)\n",
        "baseGeral['Resposta_Abrev'] = substituir_abreviacoes(baseGeral['Resposta_StopWord'], abreviacoes)"
      ]
    },
    {
      "cell_type": "code",
      "execution_count": 24,
      "metadata": {
        "colab": {
          "base_uri": "https://localhost:8080/",
          "height": 115
        },
        "id": "yqg4y7GNQQeP",
        "outputId": "79420c9e-9fa1-44dd-a91a-6078168e6e20"
      },
      "outputs": [
        {
          "data": {
            "application/vnd.google.colaboratory.intrinsic+json": {
              "summary": "{\n  \"name\": \"baseGeral\",\n  \"rows\": 799,\n  \"fields\": [\n    {\n      \"column\": \"Intencao\",\n      \"properties\": {\n        \"dtype\": \"category\",\n        \"num_unique_values\": 23,\n        \"samples\": [\n          \"Regras do servico\",\n          \"Cadastro de beneficiario\",\n          \"Como depositar \"\n        ],\n        \"semantic_type\": \"\",\n        \"description\": \"\"\n      }\n    },\n    {\n      \"column\": \"Pergunta\",\n      \"properties\": {\n        \"dtype\": \"string\",\n        \"num_unique_values\": 629,\n        \"samples\": [\n          \" fotos do id anexados\",\n          \"bom dia foi enviado mil para conta da brastel favor enviar para o banco do brasil\",\n          \"ola estou aguardando minha transferncia cair no brasil por favor\"\n        ],\n        \"semantic_type\": \"\",\n        \"description\": \"\"\n      }\n    },\n    {\n      \"column\": \"Resposta\",\n      \"properties\": {\n        \"dtype\": \"string\",\n        \"num_unique_values\": 579,\n        \"samples\": [\n          \"bom dia com a taxa de remessa inclusa qualquer dvida estamos  disposio obrigado \",\n          \"ol  c obrigado pela confirmao do seu endereo o carto ser enviado conforme solicitado num prazo de a dias uteis qualquer dvida estamos  disposio obrigado \",\n          \"para se inscrever no servio de remessa por favor baixe o aplicativo brastel remit e registre todos os dados solicitados assim vamos validar sua inscrio e voc j poder registrar os seus beneficirios com o app brastel remit voc ter independncia para fazer a remessa por conta prpria e a qualquer horrio  brastelremit jpporh para fazer o depsito voc pode solicitar um carto de depsito ou poder fazer a transferncia direto da sua conta do correio o passo a passo para ambos os depsitos estaro disponveis no seu aplicativo taxa de envio remessas at taxa de taxa de taxa brastel remit atendimento ligao gratuita de celulares seg sex s sb s domingos e feriados nacionais no h expediente a maioria dos pagamentos esto sendo feitos via pix os pagamentos feitos via pix geralmente so pagos no mesmo dia do envio da remessa porm quando o pix no for possvel o banco vai pagar via ted que nesse caso somente durtante o expediente bancrio no brasil qualquer dvida estamos  disposio obrigada\"\n        ],\n        \"semantic_type\": \"\",\n        \"description\": \"\"\n      }\n    },\n    {\n      \"column\": \"Pergunta_StopWord\",\n      \"properties\": {\n        \"dtype\": \"string\",\n        \"num_unique_values\": 625,\n        \"samples\": [\n          \"utilizei esquece senha email cadastrado nele\",\n          \"jose manoel silva codigo cliente address update ativar\",\n          \"poderia passar dlar hoje onegai\"\n        ],\n        \"semantic_type\": \"\",\n        \"description\": \"\"\n      }\n    },\n    {\n      \"column\": \"Resposta_StopWord\",\n      \"properties\": {\n        \"dtype\": \"string\",\n        \"num_unique_values\": 547,\n        \"samples\": [\n          \"remessas brastel brasil esto sendo realizadas via pix esto sendo pagas minutos dados estiverem corretos conta estiver apta receber pagamentos via pix dvida estamos   disposio\",\n          \"chegar reais depositar taxas inclusas dvida estamos   disposio\",\n          \"dia vamos enviar pedido cancelamento ltima remessa est pendente banco dados bancrios esto incorretos reenviar remessa beneficirio corrigir dados\"\n        ],\n        \"semantic_type\": \"\",\n        \"description\": \"\"\n      }\n    },\n    {\n      \"column\": \"Pergunta_Abrev\",\n      \"properties\": {\n        \"dtype\": \"string\",\n        \"num_unique_values\": 625,\n        \"samples\": [\n          \"utilizei esquece senha email cadastrado nele\",\n          \"jose manoel silva codigo cliente address update ativar\",\n          \"poderia passar dlar hoje onegai\"\n        ],\n        \"semantic_type\": \"\",\n        \"description\": \"\"\n      }\n    },\n    {\n      \"column\": \"Resposta_Abrev\",\n      \"properties\": {\n        \"dtype\": \"string\",\n        \"num_unique_values\": 547,\n        \"samples\": [\n          \"remessas brastel brasil esto sendo realizadas via pix esto sendo pagas minutos dados estiverem corretos conta estiver apta receber pagamentos via pix dvida estamos   disposio\",\n          \"chegar reais depositar taxas inclusas dvida estamos   disposio\",\n          \"dia vamos enviar pedido cancelamento ltima remessa est pendente banco dados bancrios esto incorretos reenviar remessa beneficirio corrigir dados\"\n        ],\n        \"semantic_type\": \"\",\n        \"description\": \"\"\n      }\n    }\n  ]\n}",
              "type": "dataframe",
              "variable_name": "baseGeral"
            },
            "text/html": [
              "\n",
              "  <div id=\"df-b88738f9-1142-45b5-a7f1-1ec0881ebd77\" class=\"colab-df-container\">\n",
              "    <div>\n",
              "<style scoped>\n",
              "    .dataframe tbody tr th:only-of-type {\n",
              "        vertical-align: middle;\n",
              "    }\n",
              "\n",
              "    .dataframe tbody tr th {\n",
              "        vertical-align: top;\n",
              "    }\n",
              "\n",
              "    .dataframe thead th {\n",
              "        text-align: right;\n",
              "    }\n",
              "</style>\n",
              "<table border=\"1\" class=\"dataframe\">\n",
              "  <thead>\n",
              "    <tr style=\"text-align: right;\">\n",
              "      <th></th>\n",
              "      <th>Intencao</th>\n",
              "      <th>Pergunta</th>\n",
              "      <th>Resposta</th>\n",
              "      <th>Pergunta_StopWord</th>\n",
              "      <th>Resposta_StopWord</th>\n",
              "      <th>Pergunta_Abrev</th>\n",
              "      <th>Resposta_Abrev</th>\n",
              "    </tr>\n",
              "  </thead>\n",
              "  <tbody>\n",
              "    <tr>\n",
              "      <th>0</th>\n",
              "      <td>Como depositar</td>\n",
              "      <td>boa dia tudo bem eu gostaria de saber sobre aq...</td>\n",
              "      <td>bom dia sim o sr pode utilizar o carto de deps...</td>\n",
              "      <td>dia gostaria caixa family mart verde eh horas ...</td>\n",
              "      <td>dia sr utilizar carto depsitos mquinas horas e...</td>\n",
              "      <td>dia gostaria caixa family mart verde eh horas ...</td>\n",
              "      <td>dia senhor utilizar carto depsitos mquinas hor...</td>\n",
              "    </tr>\n",
              "  </tbody>\n",
              "</table>\n",
              "</div>\n",
              "    <div class=\"colab-df-buttons\">\n",
              "\n",
              "  <div class=\"colab-df-container\">\n",
              "    <button class=\"colab-df-convert\" onclick=\"convertToInteractive('df-b88738f9-1142-45b5-a7f1-1ec0881ebd77')\"\n",
              "            title=\"Convert this dataframe to an interactive table.\"\n",
              "            style=\"display:none;\">\n",
              "\n",
              "  <svg xmlns=\"http://www.w3.org/2000/svg\" height=\"24px\" viewBox=\"0 -960 960 960\">\n",
              "    <path d=\"M120-120v-720h720v720H120Zm60-500h600v-160H180v160Zm220 220h160v-160H400v160Zm0 220h160v-160H400v160ZM180-400h160v-160H180v160Zm440 0h160v-160H620v160ZM180-180h160v-160H180v160Zm440 0h160v-160H620v160Z\"/>\n",
              "  </svg>\n",
              "    </button>\n",
              "\n",
              "  <style>\n",
              "    .colab-df-container {\n",
              "      display:flex;\n",
              "      gap: 12px;\n",
              "    }\n",
              "\n",
              "    .colab-df-convert {\n",
              "      background-color: #E8F0FE;\n",
              "      border: none;\n",
              "      border-radius: 50%;\n",
              "      cursor: pointer;\n",
              "      display: none;\n",
              "      fill: #1967D2;\n",
              "      height: 32px;\n",
              "      padding: 0 0 0 0;\n",
              "      width: 32px;\n",
              "    }\n",
              "\n",
              "    .colab-df-convert:hover {\n",
              "      background-color: #E2EBFA;\n",
              "      box-shadow: 0px 1px 2px rgba(60, 64, 67, 0.3), 0px 1px 3px 1px rgba(60, 64, 67, 0.15);\n",
              "      fill: #174EA6;\n",
              "    }\n",
              "\n",
              "    .colab-df-buttons div {\n",
              "      margin-bottom: 4px;\n",
              "    }\n",
              "\n",
              "    [theme=dark] .colab-df-convert {\n",
              "      background-color: #3B4455;\n",
              "      fill: #D2E3FC;\n",
              "    }\n",
              "\n",
              "    [theme=dark] .colab-df-convert:hover {\n",
              "      background-color: #434B5C;\n",
              "      box-shadow: 0px 1px 3px 1px rgba(0, 0, 0, 0.15);\n",
              "      filter: drop-shadow(0px 1px 2px rgba(0, 0, 0, 0.3));\n",
              "      fill: #FFFFFF;\n",
              "    }\n",
              "  </style>\n",
              "\n",
              "    <script>\n",
              "      const buttonEl =\n",
              "        document.querySelector('#df-b88738f9-1142-45b5-a7f1-1ec0881ebd77 button.colab-df-convert');\n",
              "      buttonEl.style.display =\n",
              "        google.colab.kernel.accessAllowed ? 'block' : 'none';\n",
              "\n",
              "      async function convertToInteractive(key) {\n",
              "        const element = document.querySelector('#df-b88738f9-1142-45b5-a7f1-1ec0881ebd77');\n",
              "        const dataTable =\n",
              "          await google.colab.kernel.invokeFunction('convertToInteractive',\n",
              "                                                    [key], {});\n",
              "        if (!dataTable) return;\n",
              "\n",
              "        const docLinkHtml = 'Like what you see? Visit the ' +\n",
              "          '<a target=\"_blank\" href=https://colab.research.google.com/notebooks/data_table.ipynb>data table notebook</a>'\n",
              "          + ' to learn more about interactive tables.';\n",
              "        element.innerHTML = '';\n",
              "        dataTable['output_type'] = 'display_data';\n",
              "        await google.colab.output.renderOutput(dataTable, element);\n",
              "        const docLink = document.createElement('div');\n",
              "        docLink.innerHTML = docLinkHtml;\n",
              "        element.appendChild(docLink);\n",
              "      }\n",
              "    </script>\n",
              "  </div>\n",
              "\n",
              "\n",
              "    </div>\n",
              "  </div>\n"
            ],
            "text/plain": [
              "          Intencao                                           Pergunta  \\\n",
              "0  Como depositar   boa dia tudo bem eu gostaria de saber sobre aq...   \n",
              "\n",
              "                                            Resposta  \\\n",
              "0  bom dia sim o sr pode utilizar o carto de deps...   \n",
              "\n",
              "                                   Pergunta_StopWord  \\\n",
              "0  dia gostaria caixa family mart verde eh horas ...   \n",
              "\n",
              "                                   Resposta_StopWord  \\\n",
              "0  dia sr utilizar carto depsitos mquinas horas e...   \n",
              "\n",
              "                                      Pergunta_Abrev  \\\n",
              "0  dia gostaria caixa family mart verde eh horas ...   \n",
              "\n",
              "                                      Resposta_Abrev  \n",
              "0  dia senhor utilizar carto depsitos mquinas hor...  "
            ]
          },
          "execution_count": 24,
          "metadata": {},
          "output_type": "execute_result"
        }
      ],
      "source": [
        "baseGeral.head(1)"
      ]
    },
    {
      "cell_type": "markdown",
      "metadata": {
        "id": "XeeLovhnR9mL"
      },
      "source": [
        "## Lematização dos dados\n",
        "\n",
        "Lematização: o processo de lematização identifica qual é a palavra e a transforma em sua forma base ou lema, o que é útil para normalização e interpretação do texto"
      ]
    },
    {
      "cell_type": "code",
      "execution_count": 25,
      "metadata": {
        "id": "c4_XGl3GSCgm"
      },
      "outputs": [],
      "source": [
        "# Função para lematizar o texto\n",
        "def lematizar_texto(texto):\n",
        "    doc = nlp(texto)\n",
        "    # Juntar os lemas das palavras em uma string\n",
        "    return \" \".join([token.lemma_ for token in doc])\n",
        "\n",
        "# Aplicar a lematização nas colunas 'Pergunta_Abrev' e 'Resposta_Abrev'\n",
        "baseGeral['Pergunta_Lematizada'] = baseGeral['Pergunta_Abrev'].apply(lematizar_texto)\n",
        "baseGeral['Resposta_Lematizada'] = baseGeral['Resposta_Abrev'].apply(lematizar_texto)"
      ]
    },
    {
      "cell_type": "code",
      "execution_count": 31,
      "metadata": {
        "colab": {
          "base_uri": "https://localhost:8080/"
        },
        "id": "o7Du-_QHE6VC",
        "outputId": "947b0488-9c57-4c4d-caf1-97ab29b35f1c"
      },
      "outputs": [
        {
          "name": "stdout",
          "output_type": "stream",
          "text": [
            "<class 'pandas.core.frame.DataFrame'>\n",
            "Index: 782 entries, 0 to 941932\n",
            "Data columns (total 9 columns):\n",
            " #   Column               Non-Null Count  Dtype \n",
            "---  ------               --------------  ----- \n",
            " 0   Intencao             782 non-null    object\n",
            " 1   Pergunta             782 non-null    object\n",
            " 2   Resposta             782 non-null    object\n",
            " 3   Pergunta_StopWord    782 non-null    object\n",
            " 4   Resposta_StopWord    782 non-null    object\n",
            " 5   Pergunta_Abrev       782 non-null    object\n",
            " 6   Resposta_Abrev       782 non-null    object\n",
            " 7   Pergunta_Lematizada  782 non-null    object\n",
            " 8   Resposta_Lematizada  782 non-null    object\n",
            "dtypes: object(9)\n",
            "memory usage: 61.1+ KB\n"
          ]
        }
      ],
      "source": [
        "# Apagar colunas não utilizadas e eliminar linhas com valores nulos\n",
        "baseGeral = baseGeral.dropna()\n",
        "baseGeral = baseGeral.drop_duplicates()\n",
        "baseGeral.info()"
      ]
    },
    {
      "cell_type": "code",
      "execution_count": 32,
      "metadata": {
        "colab": {
          "base_uri": "https://localhost:8080/",
          "height": 836
        },
        "id": "8FYQiojwIkG5",
        "outputId": "ec4d6a9a-9903-45ba-db77-a74768b5652f"
      },
      "outputs": [
        {
          "data": {
            "text/html": [
              "<div>\n",
              "<style scoped>\n",
              "    .dataframe tbody tr th:only-of-type {\n",
              "        vertical-align: middle;\n",
              "    }\n",
              "\n",
              "    .dataframe tbody tr th {\n",
              "        vertical-align: top;\n",
              "    }\n",
              "\n",
              "    .dataframe thead th {\n",
              "        text-align: right;\n",
              "    }\n",
              "</style>\n",
              "<table border=\"1\" class=\"dataframe\">\n",
              "  <thead>\n",
              "    <tr style=\"text-align: right;\">\n",
              "      <th></th>\n",
              "      <th>count</th>\n",
              "    </tr>\n",
              "    <tr>\n",
              "      <th>Intencao</th>\n",
              "      <th></th>\n",
              "    </tr>\n",
              "  </thead>\n",
              "  <tbody>\n",
              "    <tr>\n",
              "      <th>Confirmacao de cambio/taxas</th>\n",
              "      <td>0.152174</td>\n",
              "    </tr>\n",
              "    <tr>\n",
              "      <th>Pedido de envio via metodo \"ByPhone\"</th>\n",
              "      <td>0.127877</td>\n",
              "    </tr>\n",
              "    <tr>\n",
              "      <th>Problemas/Duvidas de atualizacao de dados cadastrais</th>\n",
              "      <td>0.102302</td>\n",
              "    </tr>\n",
              "    <tr>\n",
              "      <th>Problemas/Duvidas sobre remessas</th>\n",
              "      <td>0.083120</td>\n",
              "    </tr>\n",
              "    <tr>\n",
              "      <th>Como se inscrever</th>\n",
              "      <td>0.075448</td>\n",
              "    </tr>\n",
              "    <tr>\n",
              "      <th>Problemas/Duvidas sobre deposito</th>\n",
              "      <td>0.061381</td>\n",
              "    </tr>\n",
              "    <tr>\n",
              "      <th>Tempo de remessa</th>\n",
              "      <td>0.052430</td>\n",
              "    </tr>\n",
              "    <tr>\n",
              "      <th>Solicitacao de cartao de remessas</th>\n",
              "      <td>0.044757</td>\n",
              "    </tr>\n",
              "    <tr>\n",
              "      <th>Termos e condicoes do servico</th>\n",
              "      <td>0.042199</td>\n",
              "    </tr>\n",
              "    <tr>\n",
              "      <th>Cadastro de beneficiario</th>\n",
              "      <td>0.042199</td>\n",
              "    </tr>\n",
              "    <tr>\n",
              "      <th>Registro/Atualizacao de Documento</th>\n",
              "      <td>0.038363</td>\n",
              "    </tr>\n",
              "    <tr>\n",
              "      <th>Acesso a conta</th>\n",
              "      <td>0.034527</td>\n",
              "    </tr>\n",
              "    <tr>\n",
              "      <th>Problemas de remessa</th>\n",
              "      <td>0.028133</td>\n",
              "    </tr>\n",
              "    <tr>\n",
              "      <th>Como depositar</th>\n",
              "      <td>0.026854</td>\n",
              "    </tr>\n",
              "    <tr>\n",
              "      <th>Tempo de entrega do cartao</th>\n",
              "      <td>0.024297</td>\n",
              "    </tr>\n",
              "    <tr>\n",
              "      <th>Cancelamento</th>\n",
              "      <td>0.016624</td>\n",
              "    </tr>\n",
              "    <tr>\n",
              "      <th>Como fazer remessa</th>\n",
              "      <td>0.016624</td>\n",
              "    </tr>\n",
              "    <tr>\n",
              "      <th>Reembolso</th>\n",
              "      <td>0.015345</td>\n",
              "    </tr>\n",
              "    <tr>\n",
              "      <th>Atualizacao de dados cadastrais</th>\n",
              "      <td>0.007673</td>\n",
              "    </tr>\n",
              "    <tr>\n",
              "      <th>Envio via Deposit Code</th>\n",
              "      <td>0.003836</td>\n",
              "    </tr>\n",
              "    <tr>\n",
              "      <th>Regras do servico</th>\n",
              "      <td>0.001279</td>\n",
              "    </tr>\n",
              "    <tr>\n",
              "      <th>Tempo para depositos refletirem no saldo</th>\n",
              "      <td>0.001279</td>\n",
              "    </tr>\n",
              "    <tr>\n",
              "      <th>Dificuldades com utilizacao do App</th>\n",
              "      <td>0.001279</td>\n",
              "    </tr>\n",
              "  </tbody>\n",
              "</table>\n",
              "</div><br><label><b>dtype:</b> float64</label>"
            ],
            "text/plain": [
              "Intencao\n",
              "Confirmacao de cambio/taxas                             0.152174\n",
              "Pedido de envio via metodo \"ByPhone\"                    0.127877\n",
              "Problemas/Duvidas de atualizacao de dados cadastrais    0.102302\n",
              "Problemas/Duvidas sobre remessas                        0.083120\n",
              "Como se inscrever                                       0.075448\n",
              "Problemas/Duvidas sobre deposito                        0.061381\n",
              "Tempo de remessa                                        0.052430\n",
              "Solicitacao de cartao de remessas                       0.044757\n",
              "Termos e condicoes do servico                           0.042199\n",
              "Cadastro de beneficiario                                0.042199\n",
              "Registro/Atualizacao de Documento                       0.038363\n",
              "Acesso a conta                                          0.034527\n",
              "Problemas de remessa                                    0.028133\n",
              "Como depositar                                          0.026854\n",
              "Tempo de entrega do cartao                              0.024297\n",
              "Cancelamento                                            0.016624\n",
              "Como fazer remessa                                      0.016624\n",
              "Reembolso                                               0.015345\n",
              "Atualizacao de dados cadastrais                         0.007673\n",
              "Envio via Deposit Code                                  0.003836\n",
              "Regras do servico                                       0.001279\n",
              "Tempo para depositos refletirem no saldo                0.001279\n",
              "Dificuldades com utilizacao do App                      0.001279\n",
              "Name: count, dtype: float64"
            ]
          },
          "execution_count": 32,
          "metadata": {},
          "output_type": "execute_result"
        }
      ],
      "source": [
        "# Salvar a base de dados tratada\n",
        "baseGeral['Intencao'].value_counts()/len(baseGeral)"
      ]
    },
    {
      "cell_type": "markdown",
      "metadata": {
        "id": "yqM6XhGhSjuP"
      },
      "source": [
        "## Baixar base tratada"
      ]
    },
    {
      "cell_type": "code",
      "execution_count": 34,
      "metadata": {
        "id": "KibYLmhwSiZL"
      },
      "outputs": [],
      "source": [
        "baseGeral.to_excel('baseTratada.xlsx')"
      ]
    }
  ],
  "metadata": {
    "colab": {
      "provenance": []
    },
    "kernelspec": {
      "display_name": "Python 3",
      "name": "python3"
    },
    "language_info": {
      "name": "python"
    }
  },
  "nbformat": 4,
  "nbformat_minor": 0
}
